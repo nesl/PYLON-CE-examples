{
 "cells": [
  {
   "cell_type": "code",
   "execution_count": 1,
   "metadata": {},
   "outputs": [],
   "source": [
    "import sys\n",
    "sys.path.append('../')\n",
    "\n",
    "import numpy as np \n",
    "from tqdm import tqdm\n",
    "import matplotlib.pyplot as plt\n",
    "import torch\n",
    "from torch.utils.data import DataLoader, Dataset\n",
    "import torchvision.transforms as transforms\n",
    "from hhar_data import complex_pattern, gen_prim_dataset, IMUDataset\n",
    "from utils import set_seed"
   ]
  },
  {
   "cell_type": "code",
   "execution_count": 2,
   "metadata": {},
   "outputs": [
    {
     "name": "stdout",
     "output_type": "stream",
     "text": [
      "cuda:0\n"
     ]
    }
   ],
   "source": [
    "# Device set-up\n",
    "\n",
    "if torch.cuda.is_available():\n",
    "    device = torch.device(\"cuda:0\")\n",
    "elif torch.backends.mps.is_available():\n",
    "    device = torch.device(\"mps:0\")\n",
    "else:\n",
    "    device = torch.device(\"cpu\")\n",
    "    \n",
    "print(device)"
   ]
  },
  {
   "cell_type": "code",
   "execution_count": 3,
   "metadata": {},
   "outputs": [],
   "source": [
    "seed = 0\n",
    "set_seed(seed) # set random seed"
   ]
  },
  {
   "cell_type": "markdown",
   "metadata": {},
   "source": [
    "# Load the pre-processed HHAR dataset as primitve activities\n",
    "\n",
    "The HHAR dataset contains the readings of two motion sensors while users executed activities carrying smartwatches and smartphones.  \n",
    ">Activities: ‘Biking’, ‘Sitting’, ‘Standing’, ‘Walking’, ‘Stair Up’ and ‘Stair down’    \n",
    "Sensors: Sensors: Two embedded sensors, i.e., Accelerometer and Gyroscope, sampled at the highest frequency the respective device allows.  \n",
    "Devices: 4 smartwatches (2 LG watches, 2 Samsung Galaxy Gears), 8 smartphones (2 Samsung Galaxy S3 mini, 2 Samsung Galaxy S3, 2 LG Nexus 4, 2 Samsung Galaxy S+).  \n",
    "Recordings: 9 users. \n",
    "\n",
    "We will use a preprocessed version contributed by https://github.com/dapowan/LIMU-BERT-Public/tree/master/dataset, and only select four activities to use."
   ]
  },
  {
   "cell_type": "markdown",
   "metadata": {},
   "source": [
    "## Data loading\n",
    "Select four activities and generate primitive activity dataset using `gen_prim_dataset` function. Load the dataset using `IMUDataset` defined in `hhar_data.py`."
   ]
  },
  {
   "cell_type": "code",
   "execution_count": 4,
   "metadata": {},
   "outputs": [],
   "source": [
    "# Select four activities\n",
    "\n",
    "class_dict = {0: \"Biking\", 1: \"Sitting\", 2: \"Standing\", 3: \"Walking\", 4: \"Stair Up\", 5: \"Stair down\"}\n",
    "labels = [0, 1, 3, 4]\n",
    "prim_class_names = [class_dict[l] for l in labels]\n",
    "n_atom_class = len(labels)\n",
    "\n",
    "prim_datasets = gen_prim_dataset(labels)\n",
    "x_prim_train, y_prim_train = np.load(\"./hhar_data/train.pkl\",allow_pickle=True)\n",
    "x_prim_test, y_prim_test = np.load(\"./hhar_data/test.pkl\",allow_pickle=True)"
   ]
  },
  {
   "cell_type": "code",
   "execution_count": 5,
   "metadata": {},
   "outputs": [
    {
     "data": {
      "text/plain": [
       "((4824, 6, 120), (4824,))"
      ]
     },
     "execution_count": 5,
     "metadata": {},
     "output_type": "execute_result"
    }
   ],
   "source": [
    "# sanity check\n",
    "x_prim_train.shape, y_prim_train.shape"
   ]
  },
  {
   "cell_type": "code",
   "execution_count": 6,
   "metadata": {},
   "outputs": [],
   "source": [
    "transform = transforms.Compose([transforms.ToTensor(), \n",
    "                                transforms.Normalize((0.5), (0.5)),\n",
    "                                ])"
   ]
  },
  {
   "cell_type": "code",
   "execution_count": 7,
   "metadata": {},
   "outputs": [],
   "source": [
    "primitive_train_data = IMUDataset(x_prim_train, y_prim_train, transforms=transform)\n",
    "primitive_test_data = IMUDataset(x_prim_test, y_prim_test, transforms=transform)\n",
    "\n",
    "primitive_train_kwargs = {'batch_size': 256, 'shuffle': True}\n",
    "primitive_train_loader = DataLoader(primitive_train_data, **primitive_train_kwargs)\n",
    "\n",
    "primitive_test_kwargs = {'batch_size': 256, 'shuffle': False}\n",
    "primitive_test_loader = DataLoader(primitive_test_data, **primitive_test_kwargs)"
   ]
  },
  {
   "cell_type": "markdown",
   "metadata": {},
   "source": [
    "## Train a classifier using direct supervision\n",
    "Test the dataset and the neural network models by running a classic training pipeline using direct supervison. (This part can be skipped)"
   ]
  },
  {
   "cell_type": "code",
   "execution_count": 8,
   "metadata": {},
   "outputs": [],
   "source": [
    "from models import CNN1D\n",
    "from utils import plot_confusion_matrix, prim_test, prim_train, PlotHelper"
   ]
  },
  {
   "cell_type": "code",
   "execution_count": 9,
   "metadata": {},
   "outputs": [
    {
     "name": "stdout",
     "output_type": "stream",
     "text": [
      "Epoch: 0\n",
      "Accuracy of the network on the test data: 77 %\n",
      "Accuracy of activity  0 : 82 %\n",
      "Accuracy of activity  1 : 71 %\n",
      "Accuracy of activity  2 : 70 %\n",
      "Accuracy of activity  3 : 89 %\n",
      "Epoch: 1\n",
      "Accuracy of the network on the test data: 85 %\n",
      "Accuracy of activity  0 : 75 %\n",
      "Accuracy of activity  1 : 83 %\n",
      "Accuracy of activity  2 : 86 %\n",
      "Accuracy of activity  3 : 94 %\n",
      "Epoch: 2\n",
      "Accuracy of the network on the test data: 89 %\n",
      "Accuracy of activity  0 : 75 %\n",
      "Accuracy of activity  1 : 90 %\n",
      "Accuracy of activity  2 : 95 %\n",
      "Accuracy of activity  3 : 94 %\n",
      "Epoch: 3\n",
      "Accuracy of the network on the test data: 91 %\n",
      "Accuracy of activity  0 : 76 %\n",
      "Accuracy of activity  1 : 96 %\n",
      "Accuracy of activity  2 : 100 %\n",
      "Accuracy of activity  3 : 90 %\n",
      "Epoch: 4\n",
      "Accuracy of the network on the test data: 92 %\n",
      "Accuracy of activity  0 : 79 %\n",
      "Accuracy of activity  1 : 96 %\n",
      "Accuracy of activity  2 : 100 %\n",
      "Accuracy of activity  3 : 92 %\n",
      "Epoch: 5\n",
      "Accuracy of the network on the test data: 94 %\n",
      "Accuracy of activity  0 : 85 %\n",
      "Accuracy of activity  1 : 96 %\n",
      "Accuracy of activity  2 : 100 %\n",
      "Accuracy of activity  3 : 91 %\n",
      "Epoch: 6\n",
      "Accuracy of the network on the test data: 96 %\n",
      "Accuracy of activity  0 : 94 %\n",
      "Accuracy of activity  1 : 96 %\n",
      "Accuracy of activity  2 : 100 %\n",
      "Accuracy of activity  3 : 92 %\n",
      "Epoch: 7\n",
      "Accuracy of the network on the test data: 96 %\n",
      "Accuracy of activity  0 : 97 %\n",
      "Accuracy of activity  1 : 96 %\n",
      "Accuracy of activity  2 : 100 %\n",
      "Accuracy of activity  3 : 92 %\n",
      "Epoch: 8\n",
      "Accuracy of the network on the test data: 96 %\n",
      "Accuracy of activity  0 : 98 %\n",
      "Accuracy of activity  1 : 96 %\n",
      "Accuracy of activity  2 : 100 %\n",
      "Accuracy of activity  3 : 92 %\n",
      "Epoch: 9\n",
      "Accuracy of the network on the test data: 97 %\n",
      "Accuracy of activity  0 : 99 %\n",
      "Accuracy of activity  1 : 96 %\n",
      "Accuracy of activity  2 : 100 %\n",
      "Accuracy of activity  3 : 92 %\n",
      "Epoch: 10\n",
      "Accuracy of the network on the test data: 97 %\n",
      "Accuracy of activity  0 : 99 %\n",
      "Accuracy of activity  1 : 96 %\n",
      "Accuracy of activity  2 : 100 %\n",
      "Accuracy of activity  3 : 92 %\n",
      "Epoch: 11\n",
      "Accuracy of the network on the test data: 97 %\n",
      "Accuracy of activity  0 : 99 %\n",
      "Accuracy of activity  1 : 98 %\n",
      "Accuracy of activity  2 : 100 %\n",
      "Accuracy of activity  3 : 92 %\n",
      "Epoch: 12\n",
      "Accuracy of the network on the test data: 97 %\n",
      "Accuracy of activity  0 : 99 %\n",
      "Accuracy of activity  1 : 97 %\n",
      "Accuracy of activity  2 : 100 %\n",
      "Accuracy of activity  3 : 92 %\n",
      "Epoch: 13\n",
      "Accuracy of the network on the test data: 98 %\n",
      "Accuracy of activity  0 : 99 %\n",
      "Accuracy of activity  1 : 100 %\n",
      "Accuracy of activity  2 : 100 %\n",
      "Accuracy of activity  3 : 92 %\n",
      "Epoch: 14\n",
      "Accuracy of the network on the test data: 98 %\n",
      "Accuracy of activity  0 : 99 %\n",
      "Accuracy of activity  1 : 100 %\n",
      "Accuracy of activity  2 : 100 %\n",
      "Accuracy of activity  3 : 92 %\n",
      "Epoch: 15\n",
      "Accuracy of the network on the test data: 98 %\n",
      "Accuracy of activity  0 : 99 %\n",
      "Accuracy of activity  1 : 100 %\n",
      "Accuracy of activity  2 : 100 %\n",
      "Accuracy of activity  3 : 93 %\n",
      "Epoch: 16\n",
      "Accuracy of the network on the test data: 97 %\n",
      "Accuracy of activity  0 : 99 %\n",
      "Accuracy of activity  1 : 96 %\n",
      "Accuracy of activity  2 : 100 %\n",
      "Accuracy of activity  3 : 94 %\n",
      "Epoch: 17\n",
      "Accuracy of the network on the test data: 99 %\n",
      "Accuracy of activity  0 : 99 %\n",
      "Accuracy of activity  1 : 98 %\n",
      "Accuracy of activity  2 : 100 %\n",
      "Accuracy of activity  3 : 98 %\n",
      "Epoch: 18\n",
      "Accuracy of the network on the test data: 99 %\n",
      "Accuracy of activity  0 : 99 %\n",
      "Accuracy of activity  1 : 98 %\n",
      "Accuracy of activity  2 : 100 %\n",
      "Accuracy of activity  3 : 98 %\n",
      "Epoch: 19\n",
      "Accuracy of the network on the test data: 99 %\n",
      "Accuracy of activity  0 : 99 %\n",
      "Accuracy of activity  1 : 100 %\n",
      "Accuracy of activity  2 : 100 %\n",
      "Accuracy of activity  3 : 98 %\n"
     ]
    },
    {
     "name": "stderr",
     "output_type": "stream",
     "text": [
      "/home/nesl/Documents/PYLON-CE-examples/CE-IMU-examples/../utils.py:46: UserWarning: Matplotlib is currently using module://matplotlib_inline.backend_inline, which is a non-GUI backend, so cannot show the figure.\n",
      "  self.fig.show()\n"
     ]
    },
    {
     "data": {
      "image/png": "[encoded data removed]",
      "text/plain": [
       "<Figure size 640x480 with 1 Axes>"
      ]
     },
     "metadata": {},
     "output_type": "display_data"
    }
   ],
   "source": [
    "cnn_model = CNN1D(n_atom_class, drop_out=0.0)\n",
    "optimizer = torch.optim.Adam(cnn_model.parameters(), lr=1e-4)\n",
    "prim_train(cnn_model, primitive_train_loader,primitive_test_loader, optimizer, 20, device=device)"
   ]
  },
  {
   "cell_type": "code",
   "execution_count": 10,
   "metadata": {},
   "outputs": [
    {
     "name": "stdout",
     "output_type": "stream",
     "text": [
      "Accuracy of the network on the test data: 99 %\n",
      "Accuracy of activity  0 : 99 %\n",
      "Accuracy of activity  1 : 100 %\n",
      "Accuracy of activity  2 : 100 %\n",
      "Accuracy of activity  3 : 98 %\n"
     ]
    },
    {
     "data": {
      "image/png": "[encoded data removed]",
      "text/plain": [
       "<Figure size 900x700 with 2 Axes>"
      ]
     },
     "metadata": {},
     "output_type": "display_data"
    }
   ],
   "source": [
    "y_true, y_pred, _ = prim_test(cnn_model, primitive_test_loader)\n",
    "plot_confusion_matrix(y_true, y_pred, prim_class_names)"
   ]
  },
  {
   "cell_type": "markdown",
   "metadata": {},
   "source": [
    "# Supervise activity classifier w/ complex event labels using PYLON\n",
    "In this part, we will first generate a complex event dataset according to predifined FSM rules, and then define PYLON constraints for trianing using distant (high-level) complex event label."
   ]
  },
  {
   "cell_type": "markdown",
   "metadata": {},
   "source": [
    "We define three complex event classes:\n",
    ">Complete Care ($e_0$): Night time user response happens before Morning care (primitive activity 1 happens before 3).  \n",
    "Unhygienic Process ($e_1$): Excretion assistance happens before Meal/medication (primitive activity 0 happens before 2).  \n",
    "Default Complex Event ($e_2$): Any event that does not satisify previous event patterns.\n",
    "\n",
    "Corresponding FSMs are defined in `fsm.py`. To see details of the complex event dataset, check `complex_pattern` function in `hhar_data.py`."
   ]
  },
  {
   "cell_type": "markdown",
   "metadata": {},
   "source": [
    "## Generate complex event dataset for PYLON training\n"
   ]
  },
  {
   "cell_type": "code",
   "execution_count": 11,
   "metadata": {},
   "outputs": [],
   "source": [
    "# Generate complex event training/test set using prmitive activities\n",
    "\n",
    "from fsm import Event0, Event1\n",
    "\n",
    "fsm_list = [Event0(), Event1()]\n",
    "event_class_names = [\"Event 0\", \"Event 1\", \"No events\"]\n",
    "n_event_class = len(fsm_list) + 1\n",
    "\n",
    "'''    \n",
    "Generate a complex event dataset:\n",
    "    event 0 means \"primitive activity 1 happens before 3\", \n",
    "    event 1 means \"primitive activity 0 happens before 2\",\n",
    "    event 2 means \"no events: no interesting events occur\".\n",
    "'''\n",
    "arity = 3\n",
    "event_train_data = complex_pattern(n=arity, dataset=\"train\", prim_datasets=prim_datasets, fsm_list=fsm_list, seed=seed)\n",
    "event_test_data = complex_pattern(n=arity, dataset=\"test\", prim_datasets=prim_datasets, fsm_list=fsm_list, seed=seed)"
   ]
  },
  {
   "cell_type": "code",
   "execution_count": 12,
   "metadata": {},
   "outputs": [],
   "source": [
    "event_train_kwargs = {'batch_size': 64}\n",
    "event_train_loader = DataLoader(event_train_data, **event_train_kwargs)\n",
    "\n",
    "event_test_kwargs = {'batch_size': 64\n",
    "                     }\n",
    "event_test_loader = DataLoader(event_test_data, **event_test_kwargs)"
   ]
  },
  {
   "cell_type": "code",
   "execution_count": 13,
   "metadata": {},
   "outputs": [
    {
     "data": {
      "text/plain": [
       "torch.Size([64])"
      ]
     },
     "execution_count": 13,
     "metadata": {},
     "output_type": "execute_result"
    }
   ],
   "source": [
    "next(iter(event_test_loader))[3].shape"
   ]
  },
  {
   "cell_type": "markdown",
   "metadata": {},
   "source": [
    "## Define PYLON constraints for complex events\n",
    "We use the previous FSMs as constraints"
   ]
  },
  {
   "cell_type": "code",
   "execution_count": 14,
   "metadata": {},
   "outputs": [],
   "source": [
    "'''Define constraint function and Pylon constraint loss'''\n",
    "\n",
    "from pylon.constraint import constraint\n",
    "from pylon.brute_force_solver import SatisfactionBruteForceSolver\n",
    "# from pylon.brute_force_solver import *\n",
    "\n",
    "def complex_event(*logits_sequence, **kwargs):\n",
    "    '''\n",
    "    logits_sequence: a sequence of logits tensors returned by the primitive classifier\n",
    "    kwargs['event_label']: ground truth complex event label\n",
    "    kwargs['event_fsm']: a list of finite state machines for corresponding complex event class\n",
    "    kwargs['n_event_class]: the number of complex event classes\n",
    "    '''\n",
    "    pred_labels = []\n",
    "    logits_sequence_batch = torch.stack(logits_sequence,-1)\n",
    "    \n",
    "    for seq in logits_sequence_batch: # process sequentially in the batch\n",
    "        pred_label = kwargs['n_event_class'] - 1\n",
    "        for fsm in kwargs['event_fsm']:\n",
    "            if fsm.check(seq) == True: # (torch,torch,torch) == (int,int,int) in pylon constraints\n",
    "                pred_label = fsm.label\n",
    "        pred_labels.append(torch.tensor(pred_label))\n",
    "    \n",
    "    pred_labels = torch.stack(pred_labels)\n",
    "\n",
    "    return pred_labels == kwargs['event_label']\n",
    "\n",
    "complex_event_cons = constraint(complex_event)"
   ]
  },
  {
   "cell_type": "markdown",
   "metadata": {},
   "source": [
    "## Training and Evaluation"
   ]
  },
  {
   "cell_type": "code",
   "execution_count": 15,
   "metadata": {},
   "outputs": [],
   "source": [
    "# Define train/test functions\n",
    "\n",
    "def pylon_train(model, n_epoch, optimizer, n_print=100, device='cpu'):\n",
    "    plot_loss = PlotHelper()\n",
    "    for epoch in range(n_epoch):\n",
    "        print(\"Epoch:\", epoch)\n",
    "        \n",
    "        # train\n",
    "        for i, (i1, i2, i3, label) in enumerate(tqdm(event_train_loader)):\n",
    "            model.train()\n",
    "            model.to(device)\n",
    "            optimizer.zero_grad()\n",
    "            # print(len(x_event_train))\n",
    "            i1, i2, i3, label = i1.to(device), i2.to(device), i3.to(device), label.to(device)\n",
    "            output1 = model(i1)\n",
    "            output2 = model(i2)\n",
    "            output3 = model(i3)\n",
    "            \n",
    "            pred1 = output1.argmax(dim=1, keepdim=False)\n",
    "            pred2 = output2.argmax(dim=1, keepdim=False)\n",
    "            pred3 = output3.argmax(dim=1, keepdim=False)\n",
    "            \n",
    "            closs = complex_event_cons(output1.cpu(), output2.cpu(), output3.cpu(), event_label=label.cpu(), event_fsm=fsm_list, n_event_class=n_event_class)\n",
    "            dampner = closs.detach().cpu()\n",
    "            plot_loss.add(closs = dampner)\n",
    "\n",
    "            closs.backward()\n",
    "            optimizer.step()\n",
    "\n",
    "            if i % n_print == 0:\n",
    "                prim_test(model, primitive_test_loader)\n",
    "            \n",
    "    plot_loss.show()"
   ]
  },
  {
   "cell_type": "code",
   "execution_count": 16,
   "metadata": {},
   "outputs": [],
   "source": [
    "def event_test(model, cm=False):\n",
    "    model.eval()\n",
    "    model.to('cpu')\n",
    "    correct = 0\n",
    "    correct_class = [[] for _ in range(n_event_class)]\n",
    "    y_true = []\n",
    "    y_pred = []\n",
    "   \n",
    "    with torch.no_grad():\n",
    "        for i1, i2, i3, label in event_test_loader:\n",
    "\n",
    "            output1 = model(i1)\n",
    "            output2 = model(i2)\n",
    "            output3 = model(i3)\n",
    "            \n",
    "            pred1 = output1.argmax(dim=1, keepdim=False)  # get the index of the max log-probability\n",
    "            pred2 = output2.argmax(dim=1, keepdim=False)  \n",
    "            pred3 = output3.argmax(dim=1, keepdim=False)\n",
    "\n",
    "            pred_label = n_event_class - 1\n",
    "            for e in fsm_list:\n",
    "                if e.check([pred1, pred2, pred3]) is True:\n",
    "                    pred_label = e.label\n",
    "                    break\n",
    "\n",
    "            correct += (pred_label == label).sum().item()\n",
    "\n",
    "            y_true.extend(label.data.cpu().numpy())\n",
    "            y_pred.extend(np.array([pred_label]))\n",
    "            \n",
    "    if cm:\n",
    "        plot_confusion_matrix(y_true, y_pred, event_class_names)\n",
    "    \n",
    "    print('Test set: Overall Complex Event Accuracy: {}/{} ({:.0f}%)\\n\\\n",
    "          Complex Event 0 Accuracy: {}/{} ({:.0f}%)\\n\\\n",
    "          Complex Event 1 Accuracy: {}/{} ({:.0f}%)\\n\\\n",
    "          Complex Event 2 Accuracy: {}/{} ({:.0f}%)\\n'\n",
    "          .format(correct, len(event_test_loader),\n",
    "                  100. * correct / len(event_test_loader),\n",
    "                  sum(correct_class[0]), len(correct_class[0]),\n",
    "                  100. * sum(correct_class[0]) / len(correct_class[0]),\n",
    "                  sum(correct_class[1]), len(correct_class[1]),\n",
    "                  100. * sum(correct_class[1]) / len(correct_class[1]),\n",
    "                  sum(correct_class[2]), len(correct_class[2]),\n",
    "                  100. * sum(correct_class[2]) / len(correct_class[2])))"
   ]
  },
  {
   "cell_type": "code",
   "execution_count": 17,
   "metadata": {},
   "outputs": [],
   "source": [
    "from models import CNN1D\n",
    "from utils import plot_confusion_matrix, prim_test, prim_train, PlotHelper"
   ]
  },
  {
   "cell_type": "code",
   "execution_count": 18,
   "metadata": {},
   "outputs": [
    {
     "name": "stdout",
     "output_type": "stream",
     "text": [
      "Accuracy of the network on the test data: 24 %\n",
      "Accuracy of activity  0 : 10 %\n",
      "Accuracy of activity  1 :  0 %\n",
      "Accuracy of activity  2 :  0 %\n",
      "Accuracy of activity  3 : 95 %\n"
     ]
    }
   ],
   "source": [
    "cnn_model = CNN1D(n_atom_class, drop_out=0.0)\n",
    "_,_,_ = prim_test(cnn_model, primitive_test_loader)"
   ]
  },
  {
   "cell_type": "code",
   "execution_count": 19,
   "metadata": {},
   "outputs": [
    {
     "name": "stdout",
     "output_type": "stream",
     "text": [
      "Epoch: 0\n"
     ]
    },
    {
     "name": "stderr",
     "output_type": "stream",
     "text": [
      "  0%|          | 0/26 [00:00<?, ?it/s]/home/nesl/Documents/PYLON-CE-examples/CE-IMU-examples/../pylon/brute_force_solver.py:60: UserWarning: To copy construct from a tensor, it is recommended to use sourceTensor.clone().detach() or sourceTensor.clone().detach().requires_grad_(True), rather than torch.tensor(sourceTensor).\n",
      "  else torch.tensor(data=self.cond(*sample,**kwargs), dtype=torch.bool) for sample in samples ])\n",
      "  4%|▍         | 1/26 [00:00<00:03,  6.79it/s]"
     ]
    },
    {
     "name": "stdout",
     "output_type": "stream",
     "text": [
      "Accuracy of the network on the test data: 34 %\n",
      "Accuracy of activity  0 : 74 %\n",
      "Accuracy of activity  1 :  0 %\n",
      "Accuracy of activity  2 :  0 %\n",
      "Accuracy of activity  3 : 78 %\n"
     ]
    },
    {
     "name": "stderr",
     "output_type": "stream",
     "text": [
      "100%|██████████| 26/26 [00:02<00:00,  8.74it/s]\n"
     ]
    },
    {
     "name": "stdout",
     "output_type": "stream",
     "text": [
      "Epoch: 1\n"
     ]
    },
    {
     "name": "stderr",
     "output_type": "stream",
     "text": [
      "  4%|▍         | 1/26 [00:00<00:03,  6.53it/s]"
     ]
    },
    {
     "name": "stdout",
     "output_type": "stream",
     "text": [
      "Accuracy of the network on the test data: 92 %\n",
      "Accuracy of activity  0 : 80 %\n",
      "Accuracy of activity  1 : 95 %\n",
      "Accuracy of activity  2 : 100 %\n",
      "Accuracy of activity  3 : 92 %\n"
     ]
    },
    {
     "name": "stderr",
     "output_type": "stream",
     "text": [
      "100%|██████████| 26/26 [00:02<00:00,  8.68it/s]\n"
     ]
    },
    {
     "name": "stdout",
     "output_type": "stream",
     "text": [
      "Epoch: 2\n"
     ]
    },
    {
     "name": "stderr",
     "output_type": "stream",
     "text": [
      "  4%|▍         | 1/26 [00:00<00:04,  5.48it/s]"
     ]
    },
    {
     "name": "stdout",
     "output_type": "stream",
     "text": [
      "Accuracy of the network on the test data: 94 %\n",
      "Accuracy of activity  0 : 94 %\n",
      "Accuracy of activity  1 : 96 %\n",
      "Accuracy of activity  2 : 97 %\n",
      "Accuracy of activity  3 : 89 %\n"
     ]
    },
    {
     "name": "stderr",
     "output_type": "stream",
     "text": [
      "100%|██████████| 26/26 [00:03<00:00,  8.60it/s]\n"
     ]
    },
    {
     "name": "stdout",
     "output_type": "stream",
     "text": [
      "Epoch: 3\n"
     ]
    },
    {
     "name": "stderr",
     "output_type": "stream",
     "text": [
      "  4%|▍         | 1/26 [00:00<00:03,  6.73it/s]"
     ]
    },
    {
     "name": "stdout",
     "output_type": "stream",
     "text": [
      "Accuracy of the network on the test data: 96 %\n",
      "Accuracy of activity  0 : 94 %\n",
      "Accuracy of activity  1 : 96 %\n",
      "Accuracy of activity  2 : 100 %\n",
      "Accuracy of activity  3 : 94 %\n"
     ]
    },
    {
     "name": "stderr",
     "output_type": "stream",
     "text": [
      "100%|██████████| 26/26 [00:02<00:00,  8.77it/s]\n"
     ]
    },
    {
     "name": "stdout",
     "output_type": "stream",
     "text": [
      "Epoch: 4\n"
     ]
    },
    {
     "name": "stderr",
     "output_type": "stream",
     "text": [
      "  4%|▍         | 1/26 [00:00<00:03,  6.33it/s]"
     ]
    },
    {
     "name": "stdout",
     "output_type": "stream",
     "text": [
      "Accuracy of the network on the test data: 96 %\n",
      "Accuracy of activity  0 : 96 %\n",
      "Accuracy of activity  1 : 96 %\n",
      "Accuracy of activity  2 : 100 %\n",
      "Accuracy of activity  3 : 91 %\n"
     ]
    },
    {
     "name": "stderr",
     "output_type": "stream",
     "text": [
      "100%|██████████| 26/26 [00:02<00:00,  8.95it/s]\n"
     ]
    },
    {
     "name": "stdout",
     "output_type": "stream",
     "text": [
      "Epoch: 5\n"
     ]
    },
    {
     "name": "stderr",
     "output_type": "stream",
     "text": [
      "  4%|▍         | 1/26 [00:00<00:03,  6.77it/s]"
     ]
    },
    {
     "name": "stdout",
     "output_type": "stream",
     "text": [
      "Accuracy of the network on the test data: 96 %\n",
      "Accuracy of activity  0 : 96 %\n",
      "Accuracy of activity  1 : 96 %\n",
      "Accuracy of activity  2 : 100 %\n",
      "Accuracy of activity  3 : 92 %\n"
     ]
    },
    {
     "name": "stderr",
     "output_type": "stream",
     "text": [
      "100%|██████████| 26/26 [00:02<00:00,  8.99it/s]\n"
     ]
    },
    {
     "name": "stdout",
     "output_type": "stream",
     "text": [
      "Epoch: 6\n"
     ]
    },
    {
     "name": "stderr",
     "output_type": "stream",
     "text": [
      "  4%|▍         | 1/26 [00:00<00:04,  5.91it/s]"
     ]
    },
    {
     "name": "stdout",
     "output_type": "stream",
     "text": [
      "Accuracy of the network on the test data: 96 %\n",
      "Accuracy of activity  0 : 96 %\n",
      "Accuracy of activity  1 : 95 %\n",
      "Accuracy of activity  2 : 100 %\n",
      "Accuracy of activity  3 : 94 %\n"
     ]
    },
    {
     "name": "stderr",
     "output_type": "stream",
     "text": [
      "100%|██████████| 26/26 [00:02<00:00,  8.95it/s]\n"
     ]
    },
    {
     "name": "stdout",
     "output_type": "stream",
     "text": [
      "Epoch: 7\n"
     ]
    },
    {
     "name": "stderr",
     "output_type": "stream",
     "text": [
      "  4%|▍         | 1/26 [00:00<00:03,  7.07it/s]"
     ]
    },
    {
     "name": "stdout",
     "output_type": "stream",
     "text": [
      "Accuracy of the network on the test data: 95 %\n",
      "Accuracy of activity  0 : 98 %\n",
      "Accuracy of activity  1 : 91 %\n",
      "Accuracy of activity  2 : 100 %\n",
      "Accuracy of activity  3 : 94 %\n"
     ]
    },
    {
     "name": "stderr",
     "output_type": "stream",
     "text": [
      "100%|██████████| 26/26 [00:02<00:00,  9.35it/s]\n"
     ]
    },
    {
     "name": "stdout",
     "output_type": "stream",
     "text": [
      "Epoch: 8\n"
     ]
    },
    {
     "name": "stderr",
     "output_type": "stream",
     "text": [
      "  4%|▍         | 1/26 [00:00<00:03,  7.24it/s]"
     ]
    },
    {
     "name": "stdout",
     "output_type": "stream",
     "text": [
      "Accuracy of the network on the test data: 95 %\n",
      "Accuracy of activity  0 : 99 %\n",
      "Accuracy of activity  1 : 90 %\n",
      "Accuracy of activity  2 : 100 %\n",
      "Accuracy of activity  3 : 92 %\n"
     ]
    },
    {
     "name": "stderr",
     "output_type": "stream",
     "text": [
      "100%|██████████| 26/26 [00:02<00:00,  9.37it/s]\n"
     ]
    },
    {
     "name": "stdout",
     "output_type": "stream",
     "text": [
      "Epoch: 9\n"
     ]
    },
    {
     "name": "stderr",
     "output_type": "stream",
     "text": [
      "  4%|▍         | 1/26 [00:00<00:03,  6.98it/s]"
     ]
    },
    {
     "name": "stdout",
     "output_type": "stream",
     "text": [
      "Accuracy of the network on the test data: 95 %\n",
      "Accuracy of activity  0 : 96 %\n",
      "Accuracy of activity  1 : 91 %\n",
      "Accuracy of activity  2 : 100 %\n",
      "Accuracy of activity  3 : 94 %\n"
     ]
    },
    {
     "name": "stderr",
     "output_type": "stream",
     "text": [
      "100%|██████████| 26/26 [00:02<00:00,  9.14it/s]\n"
     ]
    },
    {
     "name": "stdout",
     "output_type": "stream",
     "text": [
      "Epoch: 10\n"
     ]
    },
    {
     "name": "stderr",
     "output_type": "stream",
     "text": [
      "  4%|▍         | 1/26 [00:00<00:03,  6.86it/s]"
     ]
    },
    {
     "name": "stdout",
     "output_type": "stream",
     "text": [
      "Accuracy of the network on the test data: 96 %\n",
      "Accuracy of activity  0 : 99 %\n",
      "Accuracy of activity  1 : 98 %\n",
      "Accuracy of activity  2 : 100 %\n",
      "Accuracy of activity  3 : 89 %\n"
     ]
    },
    {
     "name": "stderr",
     "output_type": "stream",
     "text": [
      "100%|██████████| 26/26 [00:02<00:00,  9.41it/s]\n"
     ]
    },
    {
     "name": "stdout",
     "output_type": "stream",
     "text": [
      "Epoch: 11\n"
     ]
    },
    {
     "name": "stderr",
     "output_type": "stream",
     "text": [
      "  4%|▍         | 1/26 [00:00<00:03,  7.07it/s]"
     ]
    },
    {
     "name": "stdout",
     "output_type": "stream",
     "text": [
      "Accuracy of the network on the test data: 94 %\n",
      "Accuracy of activity  0 : 99 %\n",
      "Accuracy of activity  1 : 87 %\n",
      "Accuracy of activity  2 : 99 %\n",
      "Accuracy of activity  3 : 94 %\n"
     ]
    },
    {
     "name": "stderr",
     "output_type": "stream",
     "text": [
      "100%|██████████| 26/26 [00:02<00:00,  9.21it/s]\n"
     ]
    },
    {
     "name": "stdout",
     "output_type": "stream",
     "text": [
      "Epoch: 12\n"
     ]
    },
    {
     "name": "stderr",
     "output_type": "stream",
     "text": [
      "  4%|▍         | 1/26 [00:00<00:04,  6.16it/s]"
     ]
    },
    {
     "name": "stdout",
     "output_type": "stream",
     "text": [
      "Accuracy of the network on the test data: 95 %\n",
      "Accuracy of activity  0 : 98 %\n",
      "Accuracy of activity  1 : 90 %\n",
      "Accuracy of activity  2 : 100 %\n",
      "Accuracy of activity  3 : 94 %\n"
     ]
    },
    {
     "name": "stderr",
     "output_type": "stream",
     "text": [
      "100%|██████████| 26/26 [00:02<00:00,  9.26it/s]\n"
     ]
    },
    {
     "name": "stdout",
     "output_type": "stream",
     "text": [
      "Epoch: 13\n"
     ]
    },
    {
     "name": "stderr",
     "output_type": "stream",
     "text": [
      "  4%|▍         | 1/26 [00:00<00:03,  6.94it/s]"
     ]
    },
    {
     "name": "stdout",
     "output_type": "stream",
     "text": [
      "Accuracy of the network on the test data: 96 %\n",
      "Accuracy of activity  0 : 97 %\n",
      "Accuracy of activity  1 : 96 %\n",
      "Accuracy of activity  2 : 100 %\n",
      "Accuracy of activity  3 : 91 %\n"
     ]
    },
    {
     "name": "stderr",
     "output_type": "stream",
     "text": [
      "100%|██████████| 26/26 [00:02<00:00,  9.33it/s]\n"
     ]
    },
    {
     "name": "stdout",
     "output_type": "stream",
     "text": [
      "Epoch: 14\n"
     ]
    },
    {
     "name": "stderr",
     "output_type": "stream",
     "text": [
      "  4%|▍         | 1/26 [00:00<00:03,  7.21it/s]"
     ]
    },
    {
     "name": "stdout",
     "output_type": "stream",
     "text": [
      "Accuracy of the network on the test data: 96 %\n",
      "Accuracy of activity  0 : 98 %\n",
      "Accuracy of activity  1 : 96 %\n",
      "Accuracy of activity  2 : 100 %\n",
      "Accuracy of activity  3 : 92 %\n"
     ]
    },
    {
     "name": "stderr",
     "output_type": "stream",
     "text": [
      "100%|██████████| 26/26 [00:02<00:00,  9.26it/s]\n"
     ]
    },
    {
     "name": "stdout",
     "output_type": "stream",
     "text": [
      "Epoch: 15\n"
     ]
    },
    {
     "name": "stderr",
     "output_type": "stream",
     "text": [
      "  4%|▍         | 1/26 [00:00<00:04,  6.21it/s]"
     ]
    },
    {
     "name": "stdout",
     "output_type": "stream",
     "text": [
      "Accuracy of the network on the test data: 96 %\n",
      "Accuracy of activity  0 : 98 %\n",
      "Accuracy of activity  1 : 96 %\n",
      "Accuracy of activity  2 : 100 %\n",
      "Accuracy of activity  3 : 92 %\n"
     ]
    },
    {
     "name": "stderr",
     "output_type": "stream",
     "text": [
      "100%|██████████| 26/26 [00:02<00:00,  9.33it/s]\n"
     ]
    },
    {
     "name": "stdout",
     "output_type": "stream",
     "text": [
      "Epoch: 16\n"
     ]
    },
    {
     "name": "stderr",
     "output_type": "stream",
     "text": [
      "  4%|▍         | 1/26 [00:00<00:03,  7.11it/s]"
     ]
    },
    {
     "name": "stdout",
     "output_type": "stream",
     "text": [
      "Accuracy of the network on the test data: 96 %\n",
      "Accuracy of activity  0 : 94 %\n",
      "Accuracy of activity  1 : 96 %\n",
      "Accuracy of activity  2 : 100 %\n",
      "Accuracy of activity  3 : 92 %\n"
     ]
    },
    {
     "name": "stderr",
     "output_type": "stream",
     "text": [
      "100%|██████████| 26/26 [00:02<00:00,  9.14it/s]\n"
     ]
    },
    {
     "name": "stdout",
     "output_type": "stream",
     "text": [
      "Epoch: 17\n"
     ]
    },
    {
     "name": "stderr",
     "output_type": "stream",
     "text": [
      "  4%|▍         | 1/26 [00:00<00:03,  6.95it/s]"
     ]
    },
    {
     "name": "stdout",
     "output_type": "stream",
     "text": [
      "Accuracy of the network on the test data: 96 %\n",
      "Accuracy of activity  0 : 96 %\n",
      "Accuracy of activity  1 : 96 %\n",
      "Accuracy of activity  2 : 99 %\n",
      "Accuracy of activity  3 : 94 %\n"
     ]
    },
    {
     "name": "stderr",
     "output_type": "stream",
     "text": [
      "100%|██████████| 26/26 [00:02<00:00,  9.16it/s]\n"
     ]
    },
    {
     "name": "stdout",
     "output_type": "stream",
     "text": [
      "Epoch: 18\n"
     ]
    },
    {
     "name": "stderr",
     "output_type": "stream",
     "text": [
      "  4%|▍         | 1/26 [00:00<00:03,  7.15it/s]"
     ]
    },
    {
     "name": "stdout",
     "output_type": "stream",
     "text": [
      "Accuracy of the network on the test data: 97 %\n",
      "Accuracy of activity  0 : 98 %\n",
      "Accuracy of activity  1 : 96 %\n",
      "Accuracy of activity  2 : 100 %\n",
      "Accuracy of activity  3 : 93 %\n"
     ]
    },
    {
     "name": "stderr",
     "output_type": "stream",
     "text": [
      "100%|██████████| 26/26 [00:02<00:00,  9.24it/s]\n"
     ]
    },
    {
     "name": "stdout",
     "output_type": "stream",
     "text": [
      "Epoch: 19\n"
     ]
    },
    {
     "name": "stderr",
     "output_type": "stream",
     "text": [
      "  4%|▍         | 1/26 [00:00<00:03,  7.13it/s]"
     ]
    },
    {
     "name": "stdout",
     "output_type": "stream",
     "text": [
      "Accuracy of the network on the test data: 97 %\n",
      "Accuracy of activity  0 : 98 %\n",
      "Accuracy of activity  1 : 100 %\n",
      "Accuracy of activity  2 : 100 %\n",
      "Accuracy of activity  3 : 90 %\n"
     ]
    },
    {
     "name": "stderr",
     "output_type": "stream",
     "text": [
      "100%|██████████| 26/26 [00:02<00:00,  9.14it/s]\n"
     ]
    },
    {
     "name": "stdout",
     "output_type": "stream",
     "text": [
      "Epoch: 20\n"
     ]
    },
    {
     "name": "stderr",
     "output_type": "stream",
     "text": [
      "  4%|▍         | 1/26 [00:00<00:03,  7.00it/s]"
     ]
    },
    {
     "name": "stdout",
     "output_type": "stream",
     "text": [
      "Accuracy of the network on the test data: 97 %\n",
      "Accuracy of activity  0 : 99 %\n",
      "Accuracy of activity  1 : 96 %\n",
      "Accuracy of activity  2 : 99 %\n",
      "Accuracy of activity  3 : 92 %\n"
     ]
    },
    {
     "name": "stderr",
     "output_type": "stream",
     "text": [
      "100%|██████████| 26/26 [00:02<00:00,  9.14it/s]\n"
     ]
    },
    {
     "name": "stdout",
     "output_type": "stream",
     "text": [
      "Epoch: 21\n"
     ]
    },
    {
     "name": "stderr",
     "output_type": "stream",
     "text": [
      "  4%|▍         | 1/26 [00:00<00:03,  7.12it/s]"
     ]
    },
    {
     "name": "stdout",
     "output_type": "stream",
     "text": [
      "Accuracy of the network on the test data: 97 %\n",
      "Accuracy of activity  0 : 98 %\n",
      "Accuracy of activity  1 : 96 %\n",
      "Accuracy of activity  2 : 100 %\n",
      "Accuracy of activity  3 : 94 %\n"
     ]
    },
    {
     "name": "stderr",
     "output_type": "stream",
     "text": [
      "100%|██████████| 26/26 [00:02<00:00,  9.32it/s]\n"
     ]
    },
    {
     "name": "stdout",
     "output_type": "stream",
     "text": [
      "Epoch: 22\n"
     ]
    },
    {
     "name": "stderr",
     "output_type": "stream",
     "text": [
      "  4%|▍         | 1/26 [00:00<00:03,  7.05it/s]"
     ]
    },
    {
     "name": "stdout",
     "output_type": "stream",
     "text": [
      "Accuracy of the network on the test data: 96 %\n",
      "Accuracy of activity  0 : 96 %\n",
      "Accuracy of activity  1 : 96 %\n",
      "Accuracy of activity  2 : 100 %\n",
      "Accuracy of activity  3 : 94 %\n"
     ]
    },
    {
     "name": "stderr",
     "output_type": "stream",
     "text": [
      "100%|██████████| 26/26 [00:02<00:00,  9.15it/s]\n"
     ]
    },
    {
     "name": "stdout",
     "output_type": "stream",
     "text": [
      "Epoch: 23\n"
     ]
    },
    {
     "name": "stderr",
     "output_type": "stream",
     "text": [
      "  4%|▍         | 1/26 [00:00<00:03,  6.96it/s]"
     ]
    },
    {
     "name": "stdout",
     "output_type": "stream",
     "text": [
      "Accuracy of the network on the test data: 96 %\n",
      "Accuracy of activity  0 : 96 %\n",
      "Accuracy of activity  1 : 96 %\n",
      "Accuracy of activity  2 : 100 %\n",
      "Accuracy of activity  3 : 92 %\n"
     ]
    },
    {
     "name": "stderr",
     "output_type": "stream",
     "text": [
      "100%|██████████| 26/26 [00:02<00:00,  9.14it/s]\n"
     ]
    },
    {
     "name": "stdout",
     "output_type": "stream",
     "text": [
      "Epoch: 24\n"
     ]
    },
    {
     "name": "stderr",
     "output_type": "stream",
     "text": [
      "  4%|▍         | 1/26 [00:00<00:03,  6.31it/s]"
     ]
    },
    {
     "name": "stdout",
     "output_type": "stream",
     "text": [
      "Accuracy of the network on the test data: 96 %\n",
      "Accuracy of activity  0 : 96 %\n",
      "Accuracy of activity  1 : 96 %\n",
      "Accuracy of activity  2 : 100 %\n",
      "Accuracy of activity  3 : 92 %\n"
     ]
    },
    {
     "name": "stderr",
     "output_type": "stream",
     "text": [
      "100%|██████████| 26/26 [00:02<00:00,  9.17it/s]\n"
     ]
    },
    {
     "name": "stdout",
     "output_type": "stream",
     "text": [
      "Epoch: 25\n"
     ]
    },
    {
     "name": "stderr",
     "output_type": "stream",
     "text": [
      "  4%|▍         | 1/26 [00:00<00:03,  6.82it/s]"
     ]
    },
    {
     "name": "stdout",
     "output_type": "stream",
     "text": [
      "Accuracy of the network on the test data: 97 %\n",
      "Accuracy of activity  0 : 98 %\n",
      "Accuracy of activity  1 : 96 %\n",
      "Accuracy of activity  2 : 100 %\n",
      "Accuracy of activity  3 : 92 %\n"
     ]
    },
    {
     "name": "stderr",
     "output_type": "stream",
     "text": [
      "100%|██████████| 26/26 [00:02<00:00,  9.13it/s]\n"
     ]
    },
    {
     "name": "stdout",
     "output_type": "stream",
     "text": [
      "Epoch: 26\n"
     ]
    },
    {
     "name": "stderr",
     "output_type": "stream",
     "text": [
      "  4%|▍         | 1/26 [00:00<00:03,  6.77it/s]"
     ]
    },
    {
     "name": "stdout",
     "output_type": "stream",
     "text": [
      "Accuracy of the network on the test data: 96 %\n",
      "Accuracy of activity  0 : 98 %\n",
      "Accuracy of activity  1 : 96 %\n",
      "Accuracy of activity  2 : 100 %\n",
      "Accuracy of activity  3 : 92 %\n"
     ]
    },
    {
     "name": "stderr",
     "output_type": "stream",
     "text": [
      "100%|██████████| 26/26 [00:02<00:00,  9.18it/s]\n"
     ]
    },
    {
     "name": "stdout",
     "output_type": "stream",
     "text": [
      "Epoch: 27\n"
     ]
    },
    {
     "name": "stderr",
     "output_type": "stream",
     "text": [
      "  4%|▍         | 1/26 [00:00<00:03,  7.14it/s]"
     ]
    },
    {
     "name": "stdout",
     "output_type": "stream",
     "text": [
      "Accuracy of the network on the test data: 95 %\n",
      "Accuracy of activity  0 : 97 %\n",
      "Accuracy of activity  1 : 99 %\n",
      "Accuracy of activity  2 : 100 %\n",
      "Accuracy of activity  3 : 83 %\n"
     ]
    },
    {
     "name": "stderr",
     "output_type": "stream",
     "text": [
      "100%|██████████| 26/26 [00:02<00:00,  9.29it/s]\n"
     ]
    },
    {
     "name": "stdout",
     "output_type": "stream",
     "text": [
      "Epoch: 28\n"
     ]
    },
    {
     "name": "stderr",
     "output_type": "stream",
     "text": [
      "  4%|▍         | 1/26 [00:00<00:03,  7.11it/s]"
     ]
    },
    {
     "name": "stdout",
     "output_type": "stream",
     "text": [
      "Accuracy of the network on the test data: 96 %\n",
      "Accuracy of activity  0 : 97 %\n",
      "Accuracy of activity  1 : 96 %\n",
      "Accuracy of activity  2 : 100 %\n",
      "Accuracy of activity  3 : 94 %\n"
     ]
    },
    {
     "name": "stderr",
     "output_type": "stream",
     "text": [
      "100%|██████████| 26/26 [00:02<00:00,  9.36it/s]\n"
     ]
    },
    {
     "name": "stdout",
     "output_type": "stream",
     "text": [
      "Epoch: 29\n"
     ]
    },
    {
     "name": "stderr",
     "output_type": "stream",
     "text": [
      "  4%|▍         | 1/26 [00:00<00:03,  7.08it/s]"
     ]
    },
    {
     "name": "stdout",
     "output_type": "stream",
     "text": [
      "Accuracy of the network on the test data: 97 %\n",
      "Accuracy of activity  0 : 98 %\n",
      "Accuracy of activity  1 : 98 %\n",
      "Accuracy of activity  2 : 100 %\n",
      "Accuracy of activity  3 : 92 %\n"
     ]
    },
    {
     "name": "stderr",
     "output_type": "stream",
     "text": [
      "100%|██████████| 26/26 [00:02<00:00,  9.35it/s]\n"
     ]
    },
    {
     "name": "stdout",
     "output_type": "stream",
     "text": [
      "Epoch: 30\n"
     ]
    },
    {
     "name": "stderr",
     "output_type": "stream",
     "text": [
      "  4%|▍         | 1/26 [00:00<00:03,  7.00it/s]"
     ]
    },
    {
     "name": "stdout",
     "output_type": "stream",
     "text": [
      "Accuracy of the network on the test data: 97 %\n",
      "Accuracy of activity  0 : 98 %\n",
      "Accuracy of activity  1 : 96 %\n",
      "Accuracy of activity  2 : 100 %\n",
      "Accuracy of activity  3 : 94 %\n"
     ]
    },
    {
     "name": "stderr",
     "output_type": "stream",
     "text": [
      "100%|██████████| 26/26 [00:02<00:00,  9.27it/s]\n"
     ]
    },
    {
     "name": "stdout",
     "output_type": "stream",
     "text": [
      "Epoch: 31\n"
     ]
    },
    {
     "name": "stderr",
     "output_type": "stream",
     "text": [
      "  4%|▍         | 1/26 [00:00<00:03,  6.94it/s]"
     ]
    },
    {
     "name": "stdout",
     "output_type": "stream",
     "text": [
      "Accuracy of the network on the test data: 97 %\n",
      "Accuracy of activity  0 : 98 %\n",
      "Accuracy of activity  1 : 96 %\n",
      "Accuracy of activity  2 : 100 %\n",
      "Accuracy of activity  3 : 94 %\n"
     ]
    },
    {
     "name": "stderr",
     "output_type": "stream",
     "text": [
      "100%|██████████| 26/26 [00:02<00:00,  9.24it/s]\n"
     ]
    },
    {
     "name": "stdout",
     "output_type": "stream",
     "text": [
      "Epoch: 32\n"
     ]
    },
    {
     "name": "stderr",
     "output_type": "stream",
     "text": [
      "  4%|▍         | 1/26 [00:00<00:03,  6.73it/s]"
     ]
    },
    {
     "name": "stdout",
     "output_type": "stream",
     "text": [
      "Accuracy of the network on the test data: 97 %\n",
      "Accuracy of activity  0 : 98 %\n",
      "Accuracy of activity  1 : 96 %\n",
      "Accuracy of activity  2 : 100 %\n",
      "Accuracy of activity  3 : 94 %\n"
     ]
    },
    {
     "name": "stderr",
     "output_type": "stream",
     "text": [
      "100%|██████████| 26/26 [00:02<00:00,  9.13it/s]\n"
     ]
    },
    {
     "name": "stdout",
     "output_type": "stream",
     "text": [
      "Epoch: 33\n"
     ]
    },
    {
     "name": "stderr",
     "output_type": "stream",
     "text": [
      "  4%|▍         | 1/26 [00:00<00:03,  6.98it/s]"
     ]
    },
    {
     "name": "stdout",
     "output_type": "stream",
     "text": [
      "Accuracy of the network on the test data: 96 %\n",
      "Accuracy of activity  0 : 96 %\n",
      "Accuracy of activity  1 : 96 %\n",
      "Accuracy of activity  2 : 100 %\n",
      "Accuracy of activity  3 : 92 %\n"
     ]
    },
    {
     "name": "stderr",
     "output_type": "stream",
     "text": [
      "100%|██████████| 26/26 [00:02<00:00,  9.07it/s]\n"
     ]
    },
    {
     "name": "stdout",
     "output_type": "stream",
     "text": [
      "Epoch: 34\n"
     ]
    },
    {
     "name": "stderr",
     "output_type": "stream",
     "text": [
      "  4%|▍         | 1/26 [00:00<00:03,  7.00it/s]"
     ]
    },
    {
     "name": "stdout",
     "output_type": "stream",
     "text": [
      "Accuracy of the network on the test data: 97 %\n",
      "Accuracy of activity  0 : 98 %\n",
      "Accuracy of activity  1 : 96 %\n",
      "Accuracy of activity  2 : 100 %\n",
      "Accuracy of activity  3 : 93 %\n"
     ]
    },
    {
     "name": "stderr",
     "output_type": "stream",
     "text": [
      "100%|██████████| 26/26 [00:02<00:00,  9.25it/s]\n"
     ]
    },
    {
     "name": "stdout",
     "output_type": "stream",
     "text": [
      "Epoch: 35\n"
     ]
    },
    {
     "name": "stderr",
     "output_type": "stream",
     "text": [
      "  4%|▍         | 1/26 [00:00<00:03,  6.37it/s]"
     ]
    },
    {
     "name": "stdout",
     "output_type": "stream",
     "text": [
      "Accuracy of the network on the test data: 96 %\n",
      "Accuracy of activity  0 : 98 %\n",
      "Accuracy of activity  1 : 96 %\n",
      "Accuracy of activity  2 : 100 %\n",
      "Accuracy of activity  3 : 92 %\n"
     ]
    },
    {
     "name": "stderr",
     "output_type": "stream",
     "text": [
      "100%|██████████| 26/26 [00:02<00:00,  9.11it/s]\n"
     ]
    },
    {
     "name": "stdout",
     "output_type": "stream",
     "text": [
      "Epoch: 36\n"
     ]
    },
    {
     "name": "stderr",
     "output_type": "stream",
     "text": [
      "  4%|▍         | 1/26 [00:00<00:03,  7.19it/s]"
     ]
    },
    {
     "name": "stdout",
     "output_type": "stream",
     "text": [
      "Accuracy of the network on the test data: 97 %\n",
      "Accuracy of activity  0 : 98 %\n",
      "Accuracy of activity  1 : 96 %\n",
      "Accuracy of activity  2 : 100 %\n",
      "Accuracy of activity  3 : 92 %\n"
     ]
    },
    {
     "name": "stderr",
     "output_type": "stream",
     "text": [
      "100%|██████████| 26/26 [00:02<00:00,  9.20it/s]\n"
     ]
    },
    {
     "name": "stdout",
     "output_type": "stream",
     "text": [
      "Epoch: 37\n"
     ]
    },
    {
     "name": "stderr",
     "output_type": "stream",
     "text": [
      "  4%|▍         | 1/26 [00:00<00:03,  7.14it/s]"
     ]
    },
    {
     "name": "stdout",
     "output_type": "stream",
     "text": [
      "Accuracy of the network on the test data: 96 %\n",
      "Accuracy of activity  0 : 98 %\n",
      "Accuracy of activity  1 : 96 %\n",
      "Accuracy of activity  2 : 100 %\n",
      "Accuracy of activity  3 : 92 %\n"
     ]
    },
    {
     "name": "stderr",
     "output_type": "stream",
     "text": [
      "100%|██████████| 26/26 [00:02<00:00,  9.19it/s]\n"
     ]
    },
    {
     "name": "stdout",
     "output_type": "stream",
     "text": [
      "Epoch: 38\n"
     ]
    },
    {
     "name": "stderr",
     "output_type": "stream",
     "text": [
      "  4%|▍         | 1/26 [00:00<00:04,  5.96it/s]"
     ]
    },
    {
     "name": "stdout",
     "output_type": "stream",
     "text": [
      "Accuracy of the network on the test data: 97 %\n",
      "Accuracy of activity  0 : 98 %\n",
      "Accuracy of activity  1 : 96 %\n",
      "Accuracy of activity  2 : 100 %\n",
      "Accuracy of activity  3 : 92 %\n"
     ]
    },
    {
     "name": "stderr",
     "output_type": "stream",
     "text": [
      "100%|██████████| 26/26 [00:02<00:00,  8.96it/s]\n"
     ]
    },
    {
     "name": "stdout",
     "output_type": "stream",
     "text": [
      "Epoch: 39\n"
     ]
    },
    {
     "name": "stderr",
     "output_type": "stream",
     "text": [
      "  4%|▍         | 1/26 [00:00<00:03,  6.65it/s]"
     ]
    },
    {
     "name": "stdout",
     "output_type": "stream",
     "text": [
      "Accuracy of the network on the test data: 96 %\n",
      "Accuracy of activity  0 : 98 %\n",
      "Accuracy of activity  1 : 96 %\n",
      "Accuracy of activity  2 : 100 %\n",
      "Accuracy of activity  3 : 92 %\n"
     ]
    },
    {
     "name": "stderr",
     "output_type": "stream",
     "text": [
      "100%|██████████| 26/26 [00:02<00:00,  9.27it/s]\n",
      "/home/nesl/Documents/PYLON-CE-examples/CE-IMU-examples/../utils.py:46: UserWarning: Matplotlib is currently using module://matplotlib_inline.backend_inline, which is a non-GUI backend, so cannot show the figure.\n",
      "  self.fig.show()\n"
     ]
    },
    {
     "name": "stdout",
     "output_type": "stream",
     "text": [
      "Accuracy of the network on the test data: 96 %\n",
      "Accuracy of activity  0 : 98 %\n",
      "Accuracy of activity  1 : 96 %\n",
      "Accuracy of activity  2 : 100 %\n",
      "Accuracy of activity  3 : 92 %\n"
     ]
    },
    {
     "data": {
      "image/png": "[encoded data removed]",
      "text/plain": [
       "<Figure size 640x480 with 1 Axes>"
      ]
     },
     "metadata": {},
     "output_type": "display_data"
    },
    {
     "data": {
      "image/png": "[encoded data removed]",
      "text/plain": [
       "<Figure size 900x700 with 2 Axes>"
      ]
     },
     "metadata": {},
     "output_type": "display_data"
    }
   ],
   "source": [
    "optimizer_pylon = torch.optim.Adam(cnn_model.parameters(), lr=1e-3)\n",
    "pylon_train(cnn_model, 40, optimizer_pylon)\n",
    "y_true, y_pred, _ = prim_test(cnn_model, primitive_test_loader)\n",
    "plot_confusion_matrix(y_true, y_pred, prim_class_names)"
   ]
  },
  {
   "cell_type": "markdown",
   "metadata": {},
   "source": [
    "## Train with a warm-up\n",
    "In this setting, we train the activity classifier with direct supervision for a few epochs, and then switch to PYLON for distant-supervised training."
   ]
  },
  {
   "cell_type": "code",
   "execution_count": 20,
   "metadata": {},
   "outputs": [
    {
     "name": "stdout",
     "output_type": "stream",
     "text": [
      "Epoch: 0\n",
      "Accuracy of the network on the test data: 81 %\n",
      "Accuracy of activity  0 : 33 %\n",
      "Accuracy of activity  1 : 90 %\n",
      "Accuracy of activity  2 : 100 %\n",
      "Accuracy of activity  3 : 94 %\n",
      "Epoch: 1\n",
      "Accuracy of the network on the test data: 93 %\n",
      "Accuracy of activity  0 : 79 %\n",
      "Accuracy of activity  1 : 96 %\n",
      "Accuracy of activity  2 : 100 %\n",
      "Accuracy of activity  3 : 92 %\n",
      "Epoch: 2\n",
      "Accuracy of the network on the test data: 97 %\n",
      "Accuracy of activity  0 : 98 %\n",
      "Accuracy of activity  1 : 100 %\n",
      "Accuracy of activity  2 : 100 %\n",
      "Accuracy of activity  3 : 92 %\n",
      "Epoch: 3\n",
      "Accuracy of the network on the test data: 97 %\n",
      "Accuracy of activity  0 : 95 %\n",
      "Accuracy of activity  1 : 100 %\n",
      "Accuracy of activity  2 : 100 %\n",
      "Accuracy of activity  3 : 92 %\n",
      "Epoch: 4\n",
      "Accuracy of the network on the test data: 96 %\n",
      "Accuracy of activity  0 : 97 %\n",
      "Accuracy of activity  1 : 100 %\n",
      "Accuracy of activity  2 : 100 %\n",
      "Accuracy of activity  3 : 88 %\n",
      "Epoch: 5\n",
      "Accuracy of the network on the test data: 97 %\n",
      "Accuracy of activity  0 : 98 %\n",
      "Accuracy of activity  1 : 100 %\n",
      "Accuracy of activity  2 : 100 %\n",
      "Accuracy of activity  3 : 90 %\n",
      "Epoch: 6\n",
      "Accuracy of the network on the test data: 97 %\n",
      "Accuracy of activity  0 : 97 %\n",
      "Accuracy of activity  1 : 100 %\n",
      "Accuracy of activity  2 : 100 %\n",
      "Accuracy of activity  3 : 91 %\n",
      "Epoch: 7\n",
      "Accuracy of the network on the test data: 97 %\n",
      "Accuracy of activity  0 : 98 %\n",
      "Accuracy of activity  1 : 100 %\n",
      "Accuracy of activity  2 : 100 %\n",
      "Accuracy of activity  3 : 92 %\n",
      "Epoch: 8\n",
      "Accuracy of the network on the test data: 96 %\n",
      "Accuracy of activity  0 : 96 %\n",
      "Accuracy of activity  1 : 100 %\n",
      "Accuracy of activity  2 : 100 %\n",
      "Accuracy of activity  3 : 87 %\n",
      "Epoch: 9\n",
      "Accuracy of the network on the test data: 98 %\n",
      "Accuracy of activity  0 : 100 %\n",
      "Accuracy of activity  1 : 100 %\n",
      "Accuracy of activity  2 : 100 %\n",
      "Accuracy of activity  3 : 92 %\n",
      "Accuracy of the network on the test data: 98 %\n",
      "Accuracy of activity  0 : 100 %\n",
      "Accuracy of activity  1 : 100 %\n",
      "Accuracy of activity  2 : 100 %\n",
      "Accuracy of activity  3 : 92 %\n"
     ]
    },
    {
     "name": "stderr",
     "output_type": "stream",
     "text": [
      "/home/nesl/Documents/PYLON-CE-examples/CE-IMU-examples/../utils.py:46: UserWarning: Matplotlib is currently using module://matplotlib_inline.backend_inline, which is a non-GUI backend, so cannot show the figure.\n",
      "  self.fig.show()\n"
     ]
    },
    {
     "data": {
      "image/png": "[encoded data removed]",
      "text/plain": [
       "<Figure size 640x480 with 1 Axes>"
      ]
     },
     "metadata": {},
     "output_type": "display_data"
    }
   ],
   "source": [
    "cnn_model = CNN1D(n_atom_class, drop_out=0.0)\n",
    "optimizer = torch.optim.Adam(cnn_model.parameters(), lr=0.001)\n",
    "prim_train(cnn_model, primitive_train_loader,primitive_test_loader, optimizer, 10)\n",
    "_,_,_ = prim_test(cnn_model, primitive_test_loader)"
   ]
  },
  {
   "cell_type": "code",
   "execution_count": 21,
   "metadata": {},
   "outputs": [
    {
     "name": "stdout",
     "output_type": "stream",
     "text": [
      "Epoch: 0\n"
     ]
    },
    {
     "name": "stderr",
     "output_type": "stream",
     "text": [
      "  0%|          | 0/26 [00:00<?, ?it/s]/home/nesl/Documents/PYLON-CE-examples/CE-IMU-examples/../pylon/brute_force_solver.py:60: UserWarning: To copy construct from a tensor, it is recommended to use sourceTensor.clone().detach() or sourceTensor.clone().detach().requires_grad_(True), rather than torch.tensor(sourceTensor).\n",
      "  else torch.tensor(data=self.cond(*sample,**kwargs), dtype=torch.bool) for sample in samples ])\n",
      "  4%|▍         | 1/26 [00:00<00:03,  6.65it/s]"
     ]
    },
    {
     "name": "stdout",
     "output_type": "stream",
     "text": [
      "Accuracy of the network on the test data: 96 %\n",
      "Accuracy of activity  0 : 98 %\n",
      "Accuracy of activity  1 : 100 %\n",
      "Accuracy of activity  2 : 100 %\n",
      "Accuracy of activity  3 : 85 %\n"
     ]
    },
    {
     "name": "stderr",
     "output_type": "stream",
     "text": [
      "100%|██████████| 26/26 [00:02<00:00,  9.10it/s]\n"
     ]
    },
    {
     "name": "stdout",
     "output_type": "stream",
     "text": [
      "Epoch: 1\n"
     ]
    },
    {
     "name": "stderr",
     "output_type": "stream",
     "text": [
      "  4%|▍         | 1/26 [00:00<00:03,  6.83it/s]"
     ]
    },
    {
     "name": "stdout",
     "output_type": "stream",
     "text": [
      "Accuracy of the network on the test data: 96 %\n",
      "Accuracy of activity  0 : 97 %\n",
      "Accuracy of activity  1 : 91 %\n",
      "Accuracy of activity  2 : 100 %\n",
      "Accuracy of activity  3 : 98 %\n"
     ]
    },
    {
     "name": "stderr",
     "output_type": "stream",
     "text": [
      "100%|██████████| 26/26 [00:02<00:00,  9.11it/s]\n"
     ]
    },
    {
     "name": "stdout",
     "output_type": "stream",
     "text": [
      "Epoch: 2\n"
     ]
    },
    {
     "name": "stderr",
     "output_type": "stream",
     "text": [
      "  4%|▍         | 1/26 [00:00<00:03,  6.63it/s]"
     ]
    },
    {
     "name": "stdout",
     "output_type": "stream",
     "text": [
      "Accuracy of the network on the test data: 98 %\n",
      "Accuracy of activity  0 : 99 %\n",
      "Accuracy of activity  1 : 96 %\n",
      "Accuracy of activity  2 : 100 %\n",
      "Accuracy of activity  3 : 98 %\n"
     ]
    },
    {
     "name": "stderr",
     "output_type": "stream",
     "text": [
      "100%|██████████| 26/26 [00:02<00:00,  9.06it/s]\n"
     ]
    },
    {
     "name": "stdout",
     "output_type": "stream",
     "text": [
      "Epoch: 3\n"
     ]
    },
    {
     "name": "stderr",
     "output_type": "stream",
     "text": [
      "  4%|▍         | 1/26 [00:00<00:03,  6.58it/s]"
     ]
    },
    {
     "name": "stdout",
     "output_type": "stream",
     "text": [
      "Accuracy of the network on the test data: 97 %\n",
      "Accuracy of activity  0 : 99 %\n",
      "Accuracy of activity  1 : 94 %\n",
      "Accuracy of activity  2 : 99 %\n",
      "Accuracy of activity  3 : 98 %\n"
     ]
    },
    {
     "name": "stderr",
     "output_type": "stream",
     "text": [
      "100%|██████████| 26/26 [00:02<00:00,  9.13it/s]\n"
     ]
    },
    {
     "name": "stdout",
     "output_type": "stream",
     "text": [
      "Epoch: 4\n"
     ]
    },
    {
     "name": "stderr",
     "output_type": "stream",
     "text": [
      "  4%|▍         | 1/26 [00:00<00:03,  6.62it/s]"
     ]
    },
    {
     "name": "stdout",
     "output_type": "stream",
     "text": [
      "Accuracy of the network on the test data: 95 %\n",
      "Accuracy of activity  0 : 99 %\n",
      "Accuracy of activity  1 : 88 %\n",
      "Accuracy of activity  2 : 100 %\n",
      "Accuracy of activity  3 : 97 %\n"
     ]
    },
    {
     "name": "stderr",
     "output_type": "stream",
     "text": [
      "100%|██████████| 26/26 [00:02<00:00,  8.76it/s]\n"
     ]
    },
    {
     "name": "stdout",
     "output_type": "stream",
     "text": [
      "Epoch: 5\n"
     ]
    },
    {
     "name": "stderr",
     "output_type": "stream",
     "text": [
      "  4%|▍         | 1/26 [00:00<00:03,  6.85it/s]"
     ]
    },
    {
     "name": "stdout",
     "output_type": "stream",
     "text": [
      "Accuracy of the network on the test data: 97 %\n",
      "Accuracy of activity  0 : 99 %\n",
      "Accuracy of activity  1 : 96 %\n",
      "Accuracy of activity  2 : 100 %\n",
      "Accuracy of activity  3 : 94 %\n"
     ]
    },
    {
     "name": "stderr",
     "output_type": "stream",
     "text": [
      "100%|██████████| 26/26 [00:02<00:00,  9.19it/s]\n"
     ]
    },
    {
     "name": "stdout",
     "output_type": "stream",
     "text": [
      "Epoch: 6\n"
     ]
    },
    {
     "name": "stderr",
     "output_type": "stream",
     "text": [
      "  4%|▍         | 1/26 [00:00<00:04,  6.04it/s]"
     ]
    },
    {
     "name": "stdout",
     "output_type": "stream",
     "text": [
      "Accuracy of the network on the test data: 97 %\n",
      "Accuracy of activity  0 : 99 %\n",
      "Accuracy of activity  1 : 96 %\n",
      "Accuracy of activity  2 : 100 %\n",
      "Accuracy of activity  3 : 93 %\n"
     ]
    },
    {
     "name": "stderr",
     "output_type": "stream",
     "text": [
      "100%|██████████| 26/26 [00:02<00:00,  8.75it/s]\n"
     ]
    },
    {
     "name": "stdout",
     "output_type": "stream",
     "text": [
      "Epoch: 7\n"
     ]
    },
    {
     "name": "stderr",
     "output_type": "stream",
     "text": [
      "  4%|▍         | 1/26 [00:00<00:04,  5.72it/s]"
     ]
    },
    {
     "name": "stdout",
     "output_type": "stream",
     "text": [
      "Accuracy of the network on the test data: 97 %\n",
      "Accuracy of activity  0 : 98 %\n",
      "Accuracy of activity  1 : 97 %\n",
      "Accuracy of activity  2 : 100 %\n",
      "Accuracy of activity  3 : 92 %\n"
     ]
    },
    {
     "name": "stderr",
     "output_type": "stream",
     "text": [
      "100%|██████████| 26/26 [00:02<00:00,  8.90it/s]\n"
     ]
    },
    {
     "name": "stdout",
     "output_type": "stream",
     "text": [
      "Epoch: 8\n"
     ]
    },
    {
     "name": "stderr",
     "output_type": "stream",
     "text": [
      "  4%|▍         | 1/26 [00:00<00:04,  6.17it/s]"
     ]
    },
    {
     "name": "stdout",
     "output_type": "stream",
     "text": [
      "Accuracy of the network on the test data: 97 %\n",
      "Accuracy of activity  0 : 100 %\n",
      "Accuracy of activity  1 : 97 %\n",
      "Accuracy of activity  2 : 100 %\n",
      "Accuracy of activity  3 : 92 %\n"
     ]
    },
    {
     "name": "stderr",
     "output_type": "stream",
     "text": [
      "100%|██████████| 26/26 [00:02<00:00,  8.95it/s]\n"
     ]
    },
    {
     "name": "stdout",
     "output_type": "stream",
     "text": [
      "Epoch: 9\n"
     ]
    },
    {
     "name": "stderr",
     "output_type": "stream",
     "text": [
      "  4%|▍         | 1/26 [00:00<00:03,  6.98it/s]"
     ]
    },
    {
     "name": "stdout",
     "output_type": "stream",
     "text": [
      "Accuracy of the network on the test data: 96 %\n",
      "Accuracy of activity  0 : 93 %\n",
      "Accuracy of activity  1 : 96 %\n",
      "Accuracy of activity  2 : 100 %\n",
      "Accuracy of activity  3 : 96 %\n"
     ]
    },
    {
     "name": "stderr",
     "output_type": "stream",
     "text": [
      "100%|██████████| 26/26 [00:02<00:00,  9.28it/s]\n"
     ]
    },
    {
     "data": {
      "image/png": "[encoded data removed]",
      "text/plain": [
       "<Figure size 640x480 with 1 Axes>"
      ]
     },
     "metadata": {},
     "output_type": "display_data"
    }
   ],
   "source": [
    "optimizer_pylon = torch.optim.Adam(cnn_model.parameters(), lr=1e-3)\n",
    "pylon_train(cnn_model, 10, optimizer_pylon)"
   ]
  },
  {
   "cell_type": "code",
   "execution_count": 22,
   "metadata": {},
   "outputs": [
    {
     "name": "stdout",
     "output_type": "stream",
     "text": [
      "Accuracy of the network on the test data: 98 %\n",
      "Accuracy of activity  0 : 99 %\n",
      "Accuracy of activity  1 : 96 %\n",
      "Accuracy of activity  2 : 100 %\n",
      "Accuracy of activity  3 : 98 %\n"
     ]
    },
    {
     "data": {
      "image/png": "[encoded data removed]",
      "text/plain": [
       "<Figure size 900x700 with 2 Axes>"
      ]
     },
     "metadata": {},
     "output_type": "display_data"
    }
   ],
   "source": [
    "y_true, y_pred, _ = prim_test(cnn_model, primitive_test_loader)\n",
    "plot_confusion_matrix(y_true, y_pred, prim_class_names)"
   ]
  }
 ],
 "metadata": {
  "kernelspec": {
   "display_name": "pytorch-gpu",
   "language": "python",
   "name": "python3"
  },
  "language_info": {
   "codemirror_mode": {
    "name": "ipython",
    "version": 3
   },
   "file_extension": ".py",
   "mimetype": "text/x-python",
   "name": "python",
   "nbconvert_exporter": "python",
   "pygments_lexer": "ipython3",
   "version": "3.9.18"
  }
 },
 "nbformat": 4,
 "nbformat_minor": 2
}
