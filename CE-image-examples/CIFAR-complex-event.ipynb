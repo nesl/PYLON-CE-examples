{
 "cells": [
  {
   "cell_type": "code",
   "execution_count": 2,
   "metadata": {},
   "outputs": [],
   "source": [
    "import sys\n",
    "sys.path.append('../')\n",
    "\n",
    "import torch\n",
    "import torchvision\n",
    "import torch.nn as nn\n",
    "import torch.nn.functional as F\n",
    "import torchvision.transforms as transforms\n",
    "from torch.utils.data import DataLoader\n",
    "import matplotlib.pyplot as plt\n",
    "import numpy as np\n",
    "from utils import PlotHelper\n",
    "from tqdm import tqdm"
   ]
  },
  {
   "cell_type": "code",
   "execution_count": 3,
   "metadata": {},
   "outputs": [
    {
     "name": "stdout",
     "output_type": "stream",
     "text": [
      "cuda:0\n"
     ]
    }
   ],
   "source": [
    "# Device set-up\n",
    "\n",
    "if torch.cuda.is_available():\n",
    "    device = torch.device(\"cuda:0\")\n",
    "elif torch.backends.mps.is_available():\n",
    "    device = torch.device(\"mps:0\")\n",
    "else:\n",
    "    device = torch.device(\"cpu\")\n",
    "    \n",
    "print(device)"
   ]
  },
  {
   "cell_type": "markdown",
   "metadata": {},
   "source": [
    "# Load CIFAR10 dataset as primitive datasets\n",
    "Only select four classes to use."
   ]
  },
  {
   "cell_type": "code",
   "execution_count": 4,
   "metadata": {},
   "outputs": [
    {
     "name": "stdout",
     "output_type": "stream",
     "text": [
      "Downloading https://www.cs.toronto.edu/~kriz/cifar-10-python.tar.gz to ./CIFAR10/cifar-10-python.tar.gz\n"
     ]
    },
    {
     "name": "stderr",
     "output_type": "stream",
     "text": [
      "100%|██████████| 170498071/170498071 [00:05<00:00, 31724557.96it/s]\n"
     ]
    },
    {
     "name": "stdout",
     "output_type": "stream",
     "text": [
      "Extracting ./CIFAR10/cifar-10-python.tar.gz to ./CIFAR10\n",
      "Files already downloaded and verified\n"
     ]
    }
   ],
   "source": [
    "transform = transforms.Compose([transforms.ToTensor(), \n",
    "                                transforms.Normalize((0.5, 0.5, 0.5), (0.5, 0.5, 0.5)),\n",
    "                                ])\n",
    "\n",
    "cifar_train_data = torchvision.datasets.CIFAR10(root='./CIFAR10', train=True, download=True, transform=transform)\n",
    "cifar_test_data = torchvision.datasets.CIFAR10(root='./CIFAR10', train=False, download=True, transform=transform)\n",
    "\n",
    "cifar_train_data.targets = torch.tensor(cifar_train_data.targets)\n",
    "cifar_test_data.targets = torch.tensor(cifar_test_data.targets)"
   ]
  },
  {
   "cell_type": "code",
   "execution_count": 5,
   "metadata": {},
   "outputs": [
    {
     "data": {
      "text/plain": [
       "(50000, 32, 32, 3)"
      ]
     },
     "execution_count": 5,
     "metadata": {},
     "output_type": "execute_result"
    }
   ],
   "source": [
    "cifar_train_data.data.shape"
   ]
  },
  {
   "cell_type": "code",
   "execution_count": 6,
   "metadata": {},
   "outputs": [
    {
     "data": {
      "image/png": "[encoded data removed]",
      "text/plain": [
       "<Figure size 640x480 with 1 Axes>"
      ]
     },
     "metadata": {},
     "output_type": "display_data"
    },
    {
     "name": "stdout",
     "output_type": "stream",
     "text": [
      "frog  truck truck deer \n"
     ]
    }
   ],
   "source": [
    "# Plot some data to visualize\n",
    "\n",
    "def imshow(img):\n",
    "    img = img / 2 + 0.5     # unnormalize\n",
    "    npimg = img.numpy()\n",
    "    plt.imshow(np.transpose(npimg, (1, 2, 0)))\n",
    "    plt.show()\n",
    "\n",
    "\n",
    "# get some random training images\n",
    "classes = ('plane', 'car', 'bird', 'cat',\n",
    "        'deer', 'dog', 'frog', 'horse', 'ship', 'truck')\n",
    "batch_size = 4\n",
    "loader = DataLoader(cifar_train_data,batch_size=batch_size)\n",
    "dataiter = iter(loader)\n",
    "images, labels = next(dataiter)\n",
    "\n",
    "# show images\n",
    "imshow(torchvision.utils.make_grid(images))\n",
    "# print labels\n",
    "print(' '.join(f'{classes[labels[j]]:5s}' for j in range(batch_size)))"
   ]
  },
  {
   "cell_type": "code",
   "execution_count": 7,
   "metadata": {},
   "outputs": [],
   "source": [
    "# Select four classes and generate train/test primitive datasets\n",
    "n_cifar_class = 4\n",
    "prim_class_names = [classes[i] for i in range(n_cifar_class)]\n",
    "\n",
    "\n",
    "train_filter = cifar_train_data.targets < 0\n",
    "for i in range(n_cifar_class):\n",
    "    train_filter = train_filter | (cifar_train_data.targets==i)\n",
    "cifar_train_data.data, cifar_train_data.targets = cifar_train_data.data[train_filter], cifar_train_data.targets[train_filter]\n",
    "\n",
    "test_filter = cifar_test_data.targets < 0\n",
    "for i in range(n_cifar_class):\n",
    "    test_filter = test_filter | (cifar_test_data.targets==i)\n",
    "cifar_test_data.data, cifar_test_data.targets = cifar_test_data.data[test_filter], cifar_test_data.targets[test_filter]\n",
    "\n",
    "cifar_datasets = {\n",
    "    \"train\": cifar_train_data,\n",
    "    \"test\": cifar_test_data,\n",
    "}"
   ]
  },
  {
   "cell_type": "code",
   "execution_count": 8,
   "metadata": {},
   "outputs": [],
   "source": [
    "cifar_train_kwargs = {'batch_size': 256}\n",
    "cifar_train_loader = DataLoader(cifar_train_data, **cifar_train_kwargs)\n",
    "\n",
    "cifar_test_kwargs = {'batch_size': 256}\n",
    "cifar_test_loader = DataLoader(cifar_test_data, **cifar_test_kwargs)"
   ]
  },
  {
   "cell_type": "markdown",
   "metadata": {},
   "source": [
    "## Train a classifier using direct supervision\n",
    "Test the dataset and the neural network models by running a classic training pipeline using direct supervison. (This part can be skipped)"
   ]
  },
  {
   "cell_type": "code",
   "execution_count": 9,
   "metadata": {},
   "outputs": [],
   "source": [
    "from utils import plot_confusion_matrix, prim_test, prim_train, PlotHelper"
   ]
  },
  {
   "cell_type": "code",
   "execution_count": 10,
   "metadata": {},
   "outputs": [],
   "source": [
    "class Net(nn.Module):\n",
    "    def __init__(self, N=0):\n",
    "        super().__init__()\n",
    "        self.n_class = N\n",
    "        self.conv1 = nn.Conv2d(3, 6, 5)\n",
    "        self.pool = nn.MaxPool2d(2, 2)\n",
    "        self.conv2 = nn.Conv2d(6, 16, 5)\n",
    "        self.fc1 = nn.Linear(16 * 5 * 5, 120)\n",
    "        self.fc2 = nn.Linear(120, 84)\n",
    "        self.fc3 = nn.Linear(84, N)\n",
    "\n",
    "    def forward(self, x):\n",
    "        x = self.pool(F.relu(self.conv1(x)))\n",
    "        x = self.pool(F.relu(self.conv2(x)))\n",
    "        x = torch.flatten(x, 1) # flatten all dimensions except batch\n",
    "        x = F.relu(self.fc1(x))\n",
    "        x = F.relu(self.fc2(x))\n",
    "        x = self.fc3(x)\n",
    "        return x"
   ]
  },
  {
   "cell_type": "code",
   "execution_count": 11,
   "metadata": {},
   "outputs": [
    {
     "name": "stdout",
     "output_type": "stream",
     "text": [
      "Epoch: 0\n",
      "Accuracy of the network on the test data: 59 %\n",
      "Accuracy of activity  0 : 63 %\n",
      "Accuracy of activity  1 : 86 %\n",
      "Accuracy of activity  2 : 19 %\n",
      "Accuracy of activity  3 : 68 %\n",
      "Epoch: 1\n",
      "Accuracy of the network on the test data: 69 %\n",
      "Accuracy of activity  0 : 69 %\n",
      "Accuracy of activity  1 : 88 %\n",
      "Accuracy of activity  2 : 45 %\n",
      "Accuracy of activity  3 : 76 %\n",
      "Epoch: 2\n",
      "Accuracy of the network on the test data: 71 %\n",
      "Accuracy of activity  0 : 74 %\n",
      "Accuracy of activity  1 : 93 %\n",
      "Accuracy of activity  2 : 47 %\n",
      "Accuracy of activity  3 : 72 %\n",
      "Epoch: 3\n",
      "Accuracy of the network on the test data: 73 %\n",
      "Accuracy of activity  0 : 71 %\n",
      "Accuracy of activity  1 : 88 %\n",
      "Accuracy of activity  2 : 52 %\n",
      "Accuracy of activity  3 : 81 %\n",
      "Epoch: 4\n",
      "Accuracy of the network on the test data: 74 %\n",
      "Accuracy of activity  0 : 71 %\n",
      "Accuracy of activity  1 : 90 %\n",
      "Accuracy of activity  2 : 55 %\n",
      "Accuracy of activity  3 : 81 %\n",
      "Epoch: 5\n",
      "Accuracy of the network on the test data: 75 %\n",
      "Accuracy of activity  0 : 73 %\n",
      "Accuracy of activity  1 : 91 %\n",
      "Accuracy of activity  2 : 55 %\n",
      "Accuracy of activity  3 : 81 %\n",
      "Epoch: 6\n",
      "Accuracy of the network on the test data: 75 %\n",
      "Accuracy of activity  0 : 74 %\n",
      "Accuracy of activity  1 : 91 %\n",
      "Accuracy of activity  2 : 57 %\n",
      "Accuracy of activity  3 : 80 %\n",
      "Epoch: 7\n",
      "Accuracy of the network on the test data: 76 %\n",
      "Accuracy of activity  0 : 75 %\n",
      "Accuracy of activity  1 : 92 %\n",
      "Accuracy of activity  2 : 56 %\n",
      "Accuracy of activity  3 : 81 %\n",
      "Epoch: 8\n",
      "Accuracy of the network on the test data: 76 %\n",
      "Accuracy of activity  0 : 76 %\n",
      "Accuracy of activity  1 : 92 %\n",
      "Accuracy of activity  2 : 57 %\n",
      "Accuracy of activity  3 : 81 %\n",
      "Epoch: 9\n",
      "Accuracy of the network on the test data: 77 %\n",
      "Accuracy of activity  0 : 77 %\n",
      "Accuracy of activity  1 : 92 %\n",
      "Accuracy of activity  2 : 58 %\n",
      "Accuracy of activity  3 : 81 %\n",
      "Epoch: 10\n",
      "Accuracy of the network on the test data: 77 %\n",
      "Accuracy of activity  0 : 79 %\n",
      "Accuracy of activity  1 : 92 %\n",
      "Accuracy of activity  2 : 58 %\n",
      "Accuracy of activity  3 : 81 %\n",
      "Epoch: 11\n",
      "Accuracy of the network on the test data: 77 %\n",
      "Accuracy of activity  0 : 80 %\n",
      "Accuracy of activity  1 : 91 %\n",
      "Accuracy of activity  2 : 57 %\n",
      "Accuracy of activity  3 : 82 %\n",
      "Epoch: 12\n",
      "Accuracy of the network on the test data: 77 %\n",
      "Accuracy of activity  0 : 81 %\n",
      "Accuracy of activity  1 : 89 %\n",
      "Accuracy of activity  2 : 54 %\n",
      "Accuracy of activity  3 : 84 %\n",
      "Epoch: 13\n",
      "Accuracy of the network on the test data: 76 %\n",
      "Accuracy of activity  0 : 81 %\n",
      "Accuracy of activity  1 : 89 %\n",
      "Accuracy of activity  2 : 49 %\n",
      "Accuracy of activity  3 : 85 %\n",
      "Epoch: 14\n",
      "Accuracy of the network on the test data: 77 %\n",
      "Accuracy of activity  0 : 81 %\n",
      "Accuracy of activity  1 : 90 %\n",
      "Accuracy of activity  2 : 52 %\n",
      "Accuracy of activity  3 : 85 %\n",
      "Epoch: 15\n",
      "Accuracy of the network on the test data: 78 %\n",
      "Accuracy of activity  0 : 80 %\n",
      "Accuracy of activity  1 : 90 %\n",
      "Accuracy of activity  2 : 57 %\n",
      "Accuracy of activity  3 : 84 %\n",
      "Epoch: 16\n",
      "Accuracy of the network on the test data: 77 %\n",
      "Accuracy of activity  0 : 79 %\n",
      "Accuracy of activity  1 : 90 %\n",
      "Accuracy of activity  2 : 57 %\n",
      "Accuracy of activity  3 : 83 %\n",
      "Epoch: 17\n",
      "Accuracy of the network on the test data: 77 %\n",
      "Accuracy of activity  0 : 80 %\n",
      "Accuracy of activity  1 : 90 %\n",
      "Accuracy of activity  2 : 58 %\n",
      "Accuracy of activity  3 : 83 %\n",
      "Epoch: 18\n",
      "Accuracy of the network on the test data: 78 %\n",
      "Accuracy of activity  0 : 80 %\n",
      "Accuracy of activity  1 : 90 %\n",
      "Accuracy of activity  2 : 60 %\n",
      "Accuracy of activity  3 : 82 %\n",
      "Epoch: 19\n",
      "Accuracy of the network on the test data: 78 %\n",
      "Accuracy of activity  0 : 80 %\n",
      "Accuracy of activity  1 : 90 %\n",
      "Accuracy of activity  2 : 61 %\n",
      "Accuracy of activity  3 : 82 %\n",
      "Epoch: 20\n",
      "Accuracy of the network on the test data: 78 %\n",
      "Accuracy of activity  0 : 79 %\n",
      "Accuracy of activity  1 : 90 %\n",
      "Accuracy of activity  2 : 63 %\n",
      "Accuracy of activity  3 : 81 %\n",
      "Epoch: 21\n",
      "Accuracy of the network on the test data: 78 %\n",
      "Accuracy of activity  0 : 78 %\n",
      "Accuracy of activity  1 : 90 %\n",
      "Accuracy of activity  2 : 64 %\n",
      "Accuracy of activity  3 : 80 %\n",
      "Epoch: 22\n",
      "Accuracy of the network on the test data: 78 %\n",
      "Accuracy of activity  0 : 79 %\n",
      "Accuracy of activity  1 : 90 %\n",
      "Accuracy of activity  2 : 62 %\n",
      "Accuracy of activity  3 : 81 %\n",
      "Epoch: 23\n",
      "Accuracy of the network on the test data: 78 %\n",
      "Accuracy of activity  0 : 78 %\n",
      "Accuracy of activity  1 : 90 %\n",
      "Accuracy of activity  2 : 64 %\n",
      "Accuracy of activity  3 : 80 %\n",
      "Epoch: 24\n",
      "Accuracy of the network on the test data: 78 %\n",
      "Accuracy of activity  0 : 78 %\n",
      "Accuracy of activity  1 : 91 %\n",
      "Accuracy of activity  2 : 63 %\n",
      "Accuracy of activity  3 : 81 %\n",
      "Epoch: 25\n",
      "Accuracy of the network on the test data: 78 %\n",
      "Accuracy of activity  0 : 78 %\n",
      "Accuracy of activity  1 : 90 %\n",
      "Accuracy of activity  2 : 62 %\n",
      "Accuracy of activity  3 : 81 %\n",
      "Epoch: 26\n",
      "Accuracy of the network on the test data: 78 %\n",
      "Accuracy of activity  0 : 78 %\n",
      "Accuracy of activity  1 : 90 %\n",
      "Accuracy of activity  2 : 62 %\n",
      "Accuracy of activity  3 : 81 %\n",
      "Epoch: 27\n",
      "Accuracy of the network on the test data: 77 %\n",
      "Accuracy of activity  0 : 77 %\n",
      "Accuracy of activity  1 : 90 %\n",
      "Accuracy of activity  2 : 62 %\n",
      "Accuracy of activity  3 : 81 %\n",
      "Epoch: 28\n",
      "Accuracy of the network on the test data: 78 %\n",
      "Accuracy of activity  0 : 79 %\n",
      "Accuracy of activity  1 : 88 %\n",
      "Accuracy of activity  2 : 64 %\n",
      "Accuracy of activity  3 : 80 %\n",
      "Epoch: 29\n",
      "Accuracy of the network on the test data: 77 %\n",
      "Accuracy of activity  0 : 81 %\n",
      "Accuracy of activity  1 : 83 %\n",
      "Accuracy of activity  2 : 68 %\n",
      "Accuracy of activity  3 : 74 %\n",
      "Epoch: 30\n",
      "Accuracy of the network on the test data: 77 %\n",
      "Accuracy of activity  0 : 74 %\n",
      "Accuracy of activity  1 : 90 %\n",
      "Accuracy of activity  2 : 73 %\n",
      "Accuracy of activity  3 : 71 %\n",
      "Epoch: 31\n",
      "Accuracy of the network on the test data: 76 %\n",
      "Accuracy of activity  0 : 68 %\n",
      "Accuracy of activity  1 : 91 %\n",
      "Accuracy of activity  2 : 60 %\n",
      "Accuracy of activity  3 : 84 %\n",
      "Epoch: 32\n",
      "Accuracy of the network on the test data: 78 %\n",
      "Accuracy of activity  0 : 81 %\n",
      "Accuracy of activity  1 : 90 %\n",
      "Accuracy of activity  2 : 60 %\n",
      "Accuracy of activity  3 : 80 %\n",
      "Epoch: 33\n",
      "Accuracy of the network on the test data: 77 %\n",
      "Accuracy of activity  0 : 83 %\n",
      "Accuracy of activity  1 : 85 %\n",
      "Accuracy of activity  2 : 60 %\n",
      "Accuracy of activity  3 : 79 %\n",
      "Epoch: 34\n",
      "Accuracy of the network on the test data: 76 %\n",
      "Accuracy of activity  0 : 84 %\n",
      "Accuracy of activity  1 : 80 %\n",
      "Accuracy of activity  2 : 57 %\n",
      "Accuracy of activity  3 : 83 %\n",
      "Epoch: 35\n",
      "Accuracy of the network on the test data: 75 %\n",
      "Accuracy of activity  0 : 81 %\n",
      "Accuracy of activity  1 : 76 %\n",
      "Accuracy of activity  2 : 55 %\n",
      "Accuracy of activity  3 : 87 %\n",
      "Epoch: 36\n",
      "Accuracy of the network on the test data: 75 %\n",
      "Accuracy of activity  0 : 73 %\n",
      "Accuracy of activity  1 : 83 %\n",
      "Accuracy of activity  2 : 61 %\n",
      "Accuracy of activity  3 : 86 %\n",
      "Epoch: 37\n",
      "Accuracy of the network on the test data: 77 %\n",
      "Accuracy of activity  0 : 72 %\n",
      "Accuracy of activity  1 : 89 %\n",
      "Accuracy of activity  2 : 74 %\n",
      "Accuracy of activity  3 : 72 %\n",
      "Epoch: 38\n",
      "Accuracy of the network on the test data: 76 %\n",
      "Accuracy of activity  0 : 70 %\n",
      "Accuracy of activity  1 : 93 %\n",
      "Accuracy of activity  2 : 79 %\n",
      "Accuracy of activity  3 : 64 %\n",
      "Epoch: 39\n",
      "Accuracy of the network on the test data: 76 %\n",
      "Accuracy of activity  0 : 69 %\n",
      "Accuracy of activity  1 : 94 %\n",
      "Accuracy of activity  2 : 76 %\n",
      "Accuracy of activity  3 : 64 %\n",
      "Epoch: 40\n",
      "Accuracy of the network on the test data: 76 %\n",
      "Accuracy of activity  0 : 71 %\n",
      "Accuracy of activity  1 : 94 %\n",
      "Accuracy of activity  2 : 73 %\n",
      "Accuracy of activity  3 : 65 %\n",
      "Epoch: 41\n",
      "Accuracy of the network on the test data: 76 %\n",
      "Accuracy of activity  0 : 75 %\n",
      "Accuracy of activity  1 : 93 %\n",
      "Accuracy of activity  2 : 70 %\n",
      "Accuracy of activity  3 : 65 %\n",
      "Epoch: 42\n",
      "Accuracy of the network on the test data: 76 %\n",
      "Accuracy of activity  0 : 78 %\n",
      "Accuracy of activity  1 : 92 %\n",
      "Accuracy of activity  2 : 70 %\n",
      "Accuracy of activity  3 : 63 %\n",
      "Epoch: 43\n",
      "Accuracy of the network on the test data: 77 %\n",
      "Accuracy of activity  0 : 82 %\n",
      "Accuracy of activity  1 : 90 %\n",
      "Accuracy of activity  2 : 67 %\n",
      "Accuracy of activity  3 : 68 %\n",
      "Epoch: 44\n",
      "Accuracy of the network on the test data: 76 %\n",
      "Accuracy of activity  0 : 84 %\n",
      "Accuracy of activity  1 : 87 %\n",
      "Accuracy of activity  2 : 58 %\n",
      "Accuracy of activity  3 : 76 %\n",
      "Epoch: 45\n",
      "Accuracy of the network on the test data: 74 %\n",
      "Accuracy of activity  0 : 87 %\n",
      "Accuracy of activity  1 : 84 %\n",
      "Accuracy of activity  2 : 44 %\n",
      "Accuracy of activity  3 : 82 %\n",
      "Epoch: 46\n",
      "Accuracy of the network on the test data: 76 %\n",
      "Accuracy of activity  0 : 78 %\n",
      "Accuracy of activity  1 : 91 %\n",
      "Accuracy of activity  2 : 59 %\n",
      "Accuracy of activity  3 : 74 %\n",
      "Epoch: 47\n",
      "Accuracy of the network on the test data: 76 %\n",
      "Accuracy of activity  0 : 75 %\n",
      "Accuracy of activity  1 : 88 %\n",
      "Accuracy of activity  2 : 73 %\n",
      "Accuracy of activity  3 : 67 %\n",
      "Epoch: 48\n",
      "Accuracy of the network on the test data: 74 %\n",
      "Accuracy of activity  0 : 72 %\n",
      "Accuracy of activity  1 : 79 %\n",
      "Accuracy of activity  2 : 83 %\n",
      "Accuracy of activity  3 : 61 %\n",
      "Epoch: 49\n",
      "Accuracy of the network on the test data: 69 %\n",
      "Accuracy of activity  0 : 62 %\n",
      "Accuracy of activity  1 : 69 %\n",
      "Accuracy of activity  2 : 86 %\n",
      "Accuracy of activity  3 : 59 %\n"
     ]
    },
    {
     "name": "stderr",
     "output_type": "stream",
     "text": [
      "/home/nesl/Documents/PYLON-CE-examples/CE-image-examples/../utils.py:46: UserWarning: Matplotlib is currently using module://matplotlib_inline.backend_inline, which is a non-GUI backend, so cannot show the figure.\n",
      "  self.fig.show()\n"
     ]
    },
    {
     "data": {
      "image/png": "[encoded data removed]",
      "text/plain": [
       "<Figure size 640x480 with 1 Axes>"
      ]
     },
     "metadata": {},
     "output_type": "display_data"
    }
   ],
   "source": [
    "model = Net(n_cifar_class)\n",
    "optimizer = torch.optim.Adam(model.parameters(), lr=1e-3)\n",
    "prim_train(model, cifar_train_loader,cifar_test_loader, optimizer, 50, device=device)"
   ]
  },
  {
   "cell_type": "code",
   "execution_count": 12,
   "metadata": {},
   "outputs": [
    {
     "name": "stdout",
     "output_type": "stream",
     "text": [
      "Accuracy of the network on the test data: 69 %\n",
      "Accuracy of activity  0 : 62 %\n",
      "Accuracy of activity  1 : 69 %\n",
      "Accuracy of activity  2 : 86 %\n",
      "Accuracy of activity  3 : 59 %\n"
     ]
    },
    {
     "data": {
      "image/png": "[encoded data removed]",
      "text/plain": [
       "<Figure size 900x700 with 2 Axes>"
      ]
     },
     "metadata": {},
     "output_type": "display_data"
    }
   ],
   "source": [
    "y_true, y_pred, _ = prim_test(model, cifar_test_loader)\n",
    "plot_confusion_matrix(y_true, y_pred, prim_class_names)"
   ]
  },
  {
   "cell_type": "markdown",
   "metadata": {},
   "source": [
    "# Supervise image classifier w/ complex event labels using PYLON\n",
    "In this part, we will first generate a complex event dataset according to predifined FSM rules, and then define PYLON constraints for trianing using distant (high-level) complex event label."
   ]
  },
  {
   "cell_type": "markdown",
   "metadata": {},
   "source": [
    "We define three complex event classes:\n",
    "> $e_0$: Image 1 occurs before 3.  \n",
    "$e_1$: Image 0 occurs before 2.  \n",
    "$e_2$: Any event that does not satisify previous event patterns.\n",
    "\n",
    "Corresponding FSMs are defined in `fsm.py`. To see details of the complex event dataset, check `complex_pattern` function in `image_data.py`."
   ]
  },
  {
   "cell_type": "markdown",
   "metadata": {},
   "source": [
    "## Generate complex event dataset for PYLON training\n"
   ]
  },
  {
   "cell_type": "code",
   "execution_count": 13,
   "metadata": {},
   "outputs": [
    {
     "name": "stdout",
     "output_type": "stream",
     "text": [
      "Downloading http://yann.lecun.com/exdb/mnist/train-images-idx3-ubyte.gz\n",
      "Downloading http://yann.lecun.com/exdb/mnist/train-images-idx3-ubyte.gz to /home/nesl/Documents/PYLON-CE-examples/CE-image-examples/MNIST/raw/train-images-idx3-ubyte.gz\n"
     ]
    },
    {
     "name": "stderr",
     "output_type": "stream",
     "text": [
      "100%|██████████| 9912422/9912422 [00:00<00:00, 74172142.87it/s]\n"
     ]
    },
    {
     "name": "stdout",
     "output_type": "stream",
     "text": [
      "Extracting /home/nesl/Documents/PYLON-CE-examples/CE-image-examples/MNIST/raw/train-images-idx3-ubyte.gz to /home/nesl/Documents/PYLON-CE-examples/CE-image-examples/MNIST/raw\n",
      "\n",
      "Downloading http://yann.lecun.com/exdb/mnist/train-labels-idx1-ubyte.gz\n",
      "Downloading http://yann.lecun.com/exdb/mnist/train-labels-idx1-ubyte.gz to /home/nesl/Documents/PYLON-CE-examples/CE-image-examples/MNIST/raw/train-labels-idx1-ubyte.gz\n"
     ]
    },
    {
     "name": "stderr",
     "output_type": "stream",
     "text": [
      "100%|██████████| 28881/28881 [00:00<00:00, 40813913.01it/s]"
     ]
    },
    {
     "name": "stdout",
     "output_type": "stream",
     "text": [
      "Extracting /home/nesl/Documents/PYLON-CE-examples/CE-image-examples/MNIST/raw/train-labels-idx1-ubyte.gz to /home/nesl/Documents/PYLON-CE-examples/CE-image-examples/MNIST/raw\n",
      "\n",
      "Downloading http://yann.lecun.com/exdb/mnist/t10k-images-idx3-ubyte.gz\n"
     ]
    },
    {
     "name": "stderr",
     "output_type": "stream",
     "text": [
      "\n"
     ]
    },
    {
     "name": "stdout",
     "output_type": "stream",
     "text": [
      "Downloading http://yann.lecun.com/exdb/mnist/t10k-images-idx3-ubyte.gz to /home/nesl/Documents/PYLON-CE-examples/CE-image-examples/MNIST/raw/t10k-images-idx3-ubyte.gz\n"
     ]
    },
    {
     "name": "stderr",
     "output_type": "stream",
     "text": [
      "100%|██████████| 1648877/1648877 [00:00<00:00, 72822619.98it/s]\n"
     ]
    },
    {
     "name": "stdout",
     "output_type": "stream",
     "text": [
      "Extracting /home/nesl/Documents/PYLON-CE-examples/CE-image-examples/MNIST/raw/t10k-images-idx3-ubyte.gz to /home/nesl/Documents/PYLON-CE-examples/CE-image-examples/MNIST/raw\n",
      "\n",
      "Downloading http://yann.lecun.com/exdb/mnist/t10k-labels-idx1-ubyte.gz\n",
      "Downloading http://yann.lecun.com/exdb/mnist/t10k-labels-idx1-ubyte.gz to /home/nesl/Documents/PYLON-CE-examples/CE-image-examples/MNIST/raw/t10k-labels-idx1-ubyte.gz\n"
     ]
    },
    {
     "name": "stderr",
     "output_type": "stream",
     "text": [
      "100%|██████████| 4542/4542 [00:00<00:00, 28777233.79it/s]\n"
     ]
    },
    {
     "name": "stdout",
     "output_type": "stream",
     "text": [
      "Extracting /home/nesl/Documents/PYLON-CE-examples/CE-image-examples/MNIST/raw/t10k-labels-idx1-ubyte.gz to /home/nesl/Documents/PYLON-CE-examples/CE-image-examples/MNIST/raw\n",
      "\n"
     ]
    }
   ],
   "source": [
    "# Generate complex event training/test set using prmitive dataset\n",
    "from fsm import Event0, Event1\n",
    "from img_data import complex_pattern\n",
    "\n",
    "fsm_list = [Event0(), Event1()]\n",
    "event_class_names = [\"Event 0\", \"Event 1\", \"No events\"]\n",
    "n_event_class = len(fsm_list) + 1\n",
    "\n",
    "arity = 3\n",
    "event_train_data = complex_pattern(n=arity, dataset=\"train\", prim_datasets=cifar_datasets, fsm_list=fsm_list, seed=0)\n",
    "event_test_data = complex_pattern(n=arity, dataset=\"test\", prim_datasets=cifar_datasets, fsm_list=fsm_list, seed=0)"
   ]
  },
  {
   "cell_type": "code",
   "execution_count": 14,
   "metadata": {},
   "outputs": [],
   "source": [
    "event_train_kwargs = {'batch_size': 64}\n",
    "event_train_loader = DataLoader(event_train_data, **event_train_kwargs)\n",
    "\n",
    "# Used to test correctness of predicted event labels\n",
    "event_test_kwargs = {'batch_size': 64}\n",
    "event_test_loader = DataLoader(event_test_data, **event_test_kwargs)"
   ]
  },
  {
   "cell_type": "markdown",
   "metadata": {},
   "source": [
    "## Define PYLON constraints for complex events\n",
    "We use the previous FSMs as constraints"
   ]
  },
  {
   "cell_type": "code",
   "execution_count": 15,
   "metadata": {},
   "outputs": [],
   "source": [
    "from pylon.constraint import constraint\n",
    "\n",
    "def enforce_pattern(*logits_sequence, **kwargs):\n",
    "    '''\n",
    "    logits_sequence: a sequence of logits tensors returned by the primitive classifier\n",
    "    kwargs['event_label']: ground truth complex event label\n",
    "    kwargs['event_fsm']: a list of finite state machines for corresponding complex event class\n",
    "    kwargs['n_event_class]: the number of complex event classes\n",
    "    '''\n",
    "    pred_labels = []\n",
    "    logits_sequence_batch = torch.stack(logits_sequence,-1)\n",
    "    \n",
    "    for seq in logits_sequence_batch: # process the batch sequentially\n",
    "        pred_label = kwargs['n_event_class'] - 1\n",
    "        for fsm in kwargs['event_fsm']:\n",
    "            if fsm.check(seq) == True: # (torch,torch,torch) == (int,int,int) in pylon constraints\n",
    "                pred_label = fsm.label\n",
    "        pred_labels.append(torch.tensor(pred_label))\n",
    "    \n",
    "    pred_labels = torch.stack(pred_labels)\n",
    "\n",
    "    return pred_labels == kwargs['event_label']\n",
    "\n",
    "enfore_pattern_cons = constraint(enforce_pattern)"
   ]
  },
  {
   "cell_type": "markdown",
   "metadata": {},
   "source": [
    "## Training and Evaluation"
   ]
  },
  {
   "cell_type": "code",
   "execution_count": 16,
   "metadata": {},
   "outputs": [],
   "source": [
    "def pylon_train(model, n_epoch, optimizer, n_print=10):\n",
    "    plot_loss = PlotHelper()\n",
    "    for epoch in range(n_epoch):\n",
    "        print(\"Epoch: \", epoch)\n",
    "        # train\n",
    "        for i, batch in enumerate(tqdm(event_train_loader)):\n",
    "            model.train()\n",
    "            optimizer.zero_grad()\n",
    "            # print(len(x_event_train))\n",
    "            img1, img2, img3, label = batch\n",
    "        \n",
    "            output1 = model(img1)\n",
    "            output2 = model(img2)\n",
    "            output3 = model(img3)\n",
    "            \n",
    "            pred1 = output1.argmax(dim=1, keepdim=False)\n",
    "            pred2 = output2.argmax(dim=1, keepdim=False)\n",
    "            pred3 = output3.argmax(dim=1, keepdim=False)\n",
    "            # print(\"o\",output1)\n",
    "            \n",
    "            closs = enfore_pattern_cons(output1, output2, output3, event_label=label, event_fsm=fsm_list, n_event_class=n_event_class)\n",
    "            dampner = closs.detach()\n",
    "            plot_loss.add(closs = dampner)\n",
    "\n",
    "            closs.backward()\n",
    "            optimizer.step()\n",
    "            \n",
    "            if i % n_print == 0 and i != 0:\n",
    "                prim_test(model, cifar_test_loader)\n",
    "\n",
    "    plot_loss.show()\n",
    "    prim_test(model, cifar_test_loader)"
   ]
  },
  {
   "cell_type": "code",
   "execution_count": 17,
   "metadata": {},
   "outputs": [
    {
     "name": "stdout",
     "output_type": "stream",
     "text": [
      "Epoch:  0\n"
     ]
    },
    {
     "name": "stderr",
     "output_type": "stream",
     "text": [
      "  0%|          | 0/105 [00:00<?, ?it/s]/home/nesl/Documents/PYLON-CE-examples/CE-image-examples/../pylon/brute_force_solver.py:60: UserWarning: To copy construct from a tensor, it is recommended to use sourceTensor.clone().detach() or sourceTensor.clone().detach().requires_grad_(True), rather than torch.tensor(sourceTensor).\n",
      "  else torch.tensor(data=self.cond(*sample,**kwargs), dtype=torch.bool) for sample in samples ])\n",
      " 11%|█▏        | 12/105 [00:01<00:16,  5.70it/s]"
     ]
    },
    {
     "name": "stdout",
     "output_type": "stream",
     "text": [
      "Accuracy of the network on the test data: 32 %\n",
      "Accuracy of activity  0 : 63 %\n",
      "Accuracy of activity  1 : 65 %\n",
      "Accuracy of activity  2 :  0 %\n",
      "Accuracy of activity  3 :  0 %\n"
     ]
    },
    {
     "name": "stderr",
     "output_type": "stream",
     "text": [
      " 21%|██        | 22/105 [00:03<00:14,  5.67it/s]"
     ]
    },
    {
     "name": "stdout",
     "output_type": "stream",
     "text": [
      "Accuracy of the network on the test data: 34 %\n",
      "Accuracy of activity  0 : 58 %\n",
      "Accuracy of activity  1 : 78 %\n",
      "Accuracy of activity  2 :  0 %\n",
      "Accuracy of activity  3 :  0 %\n"
     ]
    },
    {
     "name": "stderr",
     "output_type": "stream",
     "text": [
      " 30%|███       | 32/105 [00:04<00:12,  5.63it/s]"
     ]
    },
    {
     "name": "stdout",
     "output_type": "stream",
     "text": [
      "Accuracy of the network on the test data: 42 %\n",
      "Accuracy of activity  0 : 47 %\n",
      "Accuracy of activity  1 : 57 %\n",
      "Accuracy of activity  2 : 56 %\n",
      "Accuracy of activity  3 :  6 %\n"
     ]
    },
    {
     "name": "stderr",
     "output_type": "stream",
     "text": [
      " 40%|████      | 42/105 [00:06<00:11,  5.68it/s]"
     ]
    },
    {
     "name": "stdout",
     "output_type": "stream",
     "text": [
      "Accuracy of the network on the test data: 45 %\n",
      "Accuracy of activity  0 : 46 %\n",
      "Accuracy of activity  1 : 74 %\n",
      "Accuracy of activity  2 : 40 %\n",
      "Accuracy of activity  3 : 17 %\n"
     ]
    },
    {
     "name": "stderr",
     "output_type": "stream",
     "text": [
      " 50%|████▉     | 52/105 [00:07<00:09,  5.54it/s]"
     ]
    },
    {
     "name": "stdout",
     "output_type": "stream",
     "text": [
      "Accuracy of the network on the test data: 46 %\n",
      "Accuracy of activity  0 : 70 %\n",
      "Accuracy of activity  1 : 28 %\n",
      "Accuracy of activity  2 : 66 %\n",
      "Accuracy of activity  3 : 22 %\n"
     ]
    },
    {
     "name": "stderr",
     "output_type": "stream",
     "text": [
      " 59%|█████▉    | 62/105 [00:09<00:07,  5.50it/s]"
     ]
    },
    {
     "name": "stdout",
     "output_type": "stream",
     "text": [
      "Accuracy of the network on the test data: 51 %\n",
      "Accuracy of activity  0 : 60 %\n",
      "Accuracy of activity  1 : 66 %\n",
      "Accuracy of activity  2 : 17 %\n",
      "Accuracy of activity  3 : 63 %\n"
     ]
    },
    {
     "name": "stderr",
     "output_type": "stream",
     "text": [
      " 69%|██████▊   | 72/105 [00:10<00:06,  5.41it/s]"
     ]
    },
    {
     "name": "stdout",
     "output_type": "stream",
     "text": [
      "Accuracy of the network on the test data: 51 %\n",
      "Accuracy of activity  0 : 48 %\n",
      "Accuracy of activity  1 : 73 %\n",
      "Accuracy of activity  2 : 25 %\n",
      "Accuracy of activity  3 : 59 %\n"
     ]
    },
    {
     "name": "stderr",
     "output_type": "stream",
     "text": [
      " 78%|███████▊  | 82/105 [00:12<00:04,  5.25it/s]"
     ]
    },
    {
     "name": "stdout",
     "output_type": "stream",
     "text": [
      "Accuracy of the network on the test data: 54 %\n",
      "Accuracy of activity  0 : 61 %\n",
      "Accuracy of activity  1 : 66 %\n",
      "Accuracy of activity  2 : 48 %\n",
      "Accuracy of activity  3 : 42 %\n"
     ]
    },
    {
     "name": "stderr",
     "output_type": "stream",
     "text": [
      " 88%|████████▊ | 92/105 [00:14<00:02,  5.48it/s]"
     ]
    },
    {
     "name": "stdout",
     "output_type": "stream",
     "text": [
      "Accuracy of the network on the test data: 51 %\n",
      "Accuracy of activity  0 : 55 %\n",
      "Accuracy of activity  1 : 60 %\n",
      "Accuracy of activity  2 :  2 %\n",
      "Accuracy of activity  3 : 88 %\n"
     ]
    },
    {
     "name": "stderr",
     "output_type": "stream",
     "text": [
      " 97%|█████████▋| 102/105 [00:15<00:00,  5.69it/s]"
     ]
    },
    {
     "name": "stdout",
     "output_type": "stream",
     "text": [
      "Accuracy of the network on the test data: 53 %\n",
      "Accuracy of activity  0 : 65 %\n",
      "Accuracy of activity  1 : 77 %\n",
      "Accuracy of activity  2 : 43 %\n",
      "Accuracy of activity  3 : 28 %\n"
     ]
    },
    {
     "name": "stderr",
     "output_type": "stream",
     "text": [
      "100%|██████████| 105/105 [00:15<00:00,  6.66it/s]\n"
     ]
    },
    {
     "name": "stdout",
     "output_type": "stream",
     "text": [
      "Epoch:  1\n"
     ]
    },
    {
     "name": "stderr",
     "output_type": "stream",
     "text": [
      " 11%|█▏        | 12/105 [00:01<00:16,  5.76it/s]"
     ]
    },
    {
     "name": "stdout",
     "output_type": "stream",
     "text": [
      "Accuracy of the network on the test data: 57 %\n",
      "Accuracy of activity  0 : 60 %\n",
      "Accuracy of activity  1 : 75 %\n",
      "Accuracy of activity  2 : 42 %\n",
      "Accuracy of activity  3 : 52 %\n"
     ]
    },
    {
     "name": "stderr",
     "output_type": "stream",
     "text": [
      " 21%|██        | 22/105 [00:03<00:14,  5.59it/s]"
     ]
    },
    {
     "name": "stdout",
     "output_type": "stream",
     "text": [
      "Accuracy of the network on the test data: 55 %\n",
      "Accuracy of activity  0 : 44 %\n",
      "Accuracy of activity  1 : 83 %\n",
      "Accuracy of activity  2 : 17 %\n",
      "Accuracy of activity  3 : 75 %\n"
     ]
    },
    {
     "name": "stderr",
     "output_type": "stream",
     "text": [
      " 30%|███       | 32/105 [00:04<00:13,  5.58it/s]"
     ]
    },
    {
     "name": "stdout",
     "output_type": "stream",
     "text": [
      "Accuracy of the network on the test data: 58 %\n",
      "Accuracy of activity  0 : 57 %\n",
      "Accuracy of activity  1 : 81 %\n",
      "Accuracy of activity  2 : 57 %\n",
      "Accuracy of activity  3 : 35 %\n"
     ]
    },
    {
     "name": "stderr",
     "output_type": "stream",
     "text": [
      " 40%|████      | 42/105 [00:06<00:11,  5.49it/s]"
     ]
    },
    {
     "name": "stdout",
     "output_type": "stream",
     "text": [
      "Accuracy of the network on the test data: 59 %\n",
      "Accuracy of activity  0 : 57 %\n",
      "Accuracy of activity  1 : 75 %\n",
      "Accuracy of activity  2 : 54 %\n",
      "Accuracy of activity  3 : 49 %\n"
     ]
    },
    {
     "name": "stderr",
     "output_type": "stream",
     "text": [
      " 50%|████▉     | 52/105 [00:07<00:09,  5.63it/s]"
     ]
    },
    {
     "name": "stdout",
     "output_type": "stream",
     "text": [
      "Accuracy of the network on the test data: 59 %\n",
      "Accuracy of activity  0 : 71 %\n",
      "Accuracy of activity  1 : 72 %\n",
      "Accuracy of activity  2 : 38 %\n",
      "Accuracy of activity  3 : 58 %\n"
     ]
    },
    {
     "name": "stderr",
     "output_type": "stream",
     "text": [
      " 59%|█████▉    | 62/105 [00:09<00:07,  5.54it/s]"
     ]
    },
    {
     "name": "stdout",
     "output_type": "stream",
     "text": [
      "Accuracy of the network on the test data: 60 %\n",
      "Accuracy of activity  0 : 59 %\n",
      "Accuracy of activity  1 : 83 %\n",
      "Accuracy of activity  2 : 69 %\n",
      "Accuracy of activity  3 : 30 %\n"
     ]
    },
    {
     "name": "stderr",
     "output_type": "stream",
     "text": [
      " 69%|██████▊   | 72/105 [00:10<00:05,  5.73it/s]"
     ]
    },
    {
     "name": "stdout",
     "output_type": "stream",
     "text": [
      "Accuracy of the network on the test data: 58 %\n",
      "Accuracy of activity  0 : 41 %\n",
      "Accuracy of activity  1 : 81 %\n",
      "Accuracy of activity  2 : 33 %\n",
      "Accuracy of activity  3 : 77 %\n"
     ]
    },
    {
     "name": "stderr",
     "output_type": "stream",
     "text": [
      " 78%|███████▊  | 82/105 [00:12<00:04,  5.63it/s]"
     ]
    },
    {
     "name": "stdout",
     "output_type": "stream",
     "text": [
      "Accuracy of the network on the test data: 62 %\n",
      "Accuracy of activity  0 : 69 %\n",
      "Accuracy of activity  1 : 75 %\n",
      "Accuracy of activity  2 : 62 %\n",
      "Accuracy of activity  3 : 44 %\n"
     ]
    },
    {
     "name": "stderr",
     "output_type": "stream",
     "text": [
      " 88%|████████▊ | 92/105 [00:13<00:02,  5.55it/s]"
     ]
    },
    {
     "name": "stdout",
     "output_type": "stream",
     "text": [
      "Accuracy of the network on the test data: 60 %\n",
      "Accuracy of activity  0 : 64 %\n",
      "Accuracy of activity  1 : 72 %\n",
      "Accuracy of activity  2 : 17 %\n",
      "Accuracy of activity  3 : 86 %\n"
     ]
    },
    {
     "name": "stderr",
     "output_type": "stream",
     "text": [
      " 97%|█████████▋| 102/105 [00:15<00:00,  5.56it/s]"
     ]
    },
    {
     "name": "stdout",
     "output_type": "stream",
     "text": [
      "Accuracy of the network on the test data: 63 %\n",
      "Accuracy of activity  0 : 66 %\n",
      "Accuracy of activity  1 : 85 %\n",
      "Accuracy of activity  2 : 43 %\n",
      "Accuracy of activity  3 : 61 %\n"
     ]
    },
    {
     "name": "stderr",
     "output_type": "stream",
     "text": [
      "100%|██████████| 105/105 [00:15<00:00,  6.78it/s]\n"
     ]
    },
    {
     "name": "stdout",
     "output_type": "stream",
     "text": [
      "Epoch:  2\n"
     ]
    },
    {
     "name": "stderr",
     "output_type": "stream",
     "text": [
      " 11%|█▏        | 12/105 [00:01<00:16,  5.79it/s]"
     ]
    },
    {
     "name": "stdout",
     "output_type": "stream",
     "text": [
      "Accuracy of the network on the test data: 65 %\n",
      "Accuracy of activity  0 : 58 %\n",
      "Accuracy of activity  1 : 83 %\n",
      "Accuracy of activity  2 : 62 %\n",
      "Accuracy of activity  3 : 58 %\n"
     ]
    },
    {
     "name": "stderr",
     "output_type": "stream",
     "text": [
      " 21%|██        | 22/105 [00:03<00:14,  5.70it/s]"
     ]
    },
    {
     "name": "stdout",
     "output_type": "stream",
     "text": [
      "Accuracy of the network on the test data: 65 %\n",
      "Accuracy of activity  0 : 63 %\n",
      "Accuracy of activity  1 : 82 %\n",
      "Accuracy of activity  2 : 39 %\n",
      "Accuracy of activity  3 : 77 %\n"
     ]
    },
    {
     "name": "stderr",
     "output_type": "stream",
     "text": [
      " 30%|███       | 32/105 [00:04<00:13,  5.35it/s]"
     ]
    },
    {
     "name": "stdout",
     "output_type": "stream",
     "text": [
      "Accuracy of the network on the test data: 65 %\n",
      "Accuracy of activity  0 : 56 %\n",
      "Accuracy of activity  1 : 89 %\n",
      "Accuracy of activity  2 : 61 %\n",
      "Accuracy of activity  3 : 56 %\n"
     ]
    },
    {
     "name": "stderr",
     "output_type": "stream",
     "text": [
      " 40%|████      | 42/105 [00:06<00:11,  5.48it/s]"
     ]
    },
    {
     "name": "stdout",
     "output_type": "stream",
     "text": [
      "Accuracy of the network on the test data: 65 %\n",
      "Accuracy of activity  0 : 62 %\n",
      "Accuracy of activity  1 : 76 %\n",
      "Accuracy of activity  2 : 64 %\n",
      "Accuracy of activity  3 : 57 %\n"
     ]
    },
    {
     "name": "stderr",
     "output_type": "stream",
     "text": [
      " 50%|████▉     | 52/105 [00:07<00:09,  5.63it/s]"
     ]
    },
    {
     "name": "stdout",
     "output_type": "stream",
     "text": [
      "Accuracy of the network on the test data: 65 %\n",
      "Accuracy of activity  0 : 72 %\n",
      "Accuracy of activity  1 : 79 %\n",
      "Accuracy of activity  2 : 61 %\n",
      "Accuracy of activity  3 : 50 %\n"
     ]
    },
    {
     "name": "stderr",
     "output_type": "stream",
     "text": [
      " 59%|█████▉    | 62/105 [00:09<00:07,  5.70it/s]"
     ]
    },
    {
     "name": "stdout",
     "output_type": "stream",
     "text": [
      "Accuracy of the network on the test data: 65 %\n",
      "Accuracy of activity  0 : 54 %\n",
      "Accuracy of activity  1 : 87 %\n",
      "Accuracy of activity  2 : 75 %\n",
      "Accuracy of activity  3 : 45 %\n"
     ]
    },
    {
     "name": "stderr",
     "output_type": "stream",
     "text": [
      " 69%|██████▊   | 72/105 [00:10<00:05,  5.71it/s]"
     ]
    },
    {
     "name": "stdout",
     "output_type": "stream",
     "text": [
      "Accuracy of the network on the test data: 63 %\n",
      "Accuracy of activity  0 : 57 %\n",
      "Accuracy of activity  1 : 85 %\n",
      "Accuracy of activity  2 : 25 %\n",
      "Accuracy of activity  3 : 87 %\n"
     ]
    },
    {
     "name": "stderr",
     "output_type": "stream",
     "text": [
      " 78%|███████▊  | 82/105 [00:12<00:04,  5.63it/s]"
     ]
    },
    {
     "name": "stdout",
     "output_type": "stream",
     "text": [
      "Accuracy of the network on the test data: 67 %\n",
      "Accuracy of activity  0 : 70 %\n",
      "Accuracy of activity  1 : 79 %\n",
      "Accuracy of activity  2 : 66 %\n",
      "Accuracy of activity  3 : 53 %\n"
     ]
    },
    {
     "name": "stderr",
     "output_type": "stream",
     "text": [
      " 88%|████████▊ | 92/105 [00:13<00:02,  5.75it/s]"
     ]
    },
    {
     "name": "stdout",
     "output_type": "stream",
     "text": [
      "Accuracy of the network on the test data: 63 %\n",
      "Accuracy of activity  0 : 63 %\n",
      "Accuracy of activity  1 : 68 %\n",
      "Accuracy of activity  2 : 37 %\n",
      "Accuracy of activity  3 : 85 %\n"
     ]
    },
    {
     "name": "stderr",
     "output_type": "stream",
     "text": [
      " 97%|█████████▋| 102/105 [00:15<00:00,  5.78it/s]"
     ]
    },
    {
     "name": "stdout",
     "output_type": "stream",
     "text": [
      "Accuracy of the network on the test data: 68 %\n",
      "Accuracy of activity  0 : 68 %\n",
      "Accuracy of activity  1 : 88 %\n",
      "Accuracy of activity  2 : 48 %\n",
      "Accuracy of activity  3 : 67 %\n"
     ]
    },
    {
     "name": "stderr",
     "output_type": "stream",
     "text": [
      "100%|██████████| 105/105 [00:15<00:00,  6.84it/s]\n"
     ]
    },
    {
     "name": "stdout",
     "output_type": "stream",
     "text": [
      "Epoch:  3\n"
     ]
    },
    {
     "name": "stderr",
     "output_type": "stream",
     "text": [
      " 11%|█▏        | 12/105 [00:01<00:16,  5.76it/s]"
     ]
    },
    {
     "name": "stdout",
     "output_type": "stream",
     "text": [
      "Accuracy of the network on the test data: 69 %\n",
      "Accuracy of activity  0 : 65 %\n",
      "Accuracy of activity  1 : 84 %\n",
      "Accuracy of activity  2 : 64 %\n",
      "Accuracy of activity  3 : 64 %\n"
     ]
    },
    {
     "name": "stderr",
     "output_type": "stream",
     "text": [
      " 21%|██        | 22/105 [00:03<00:15,  5.46it/s]"
     ]
    },
    {
     "name": "stdout",
     "output_type": "stream",
     "text": [
      "Accuracy of the network on the test data: 67 %\n",
      "Accuracy of activity  0 : 68 %\n",
      "Accuracy of activity  1 : 75 %\n",
      "Accuracy of activity  2 : 49 %\n",
      "Accuracy of activity  3 : 78 %\n"
     ]
    },
    {
     "name": "stderr",
     "output_type": "stream",
     "text": [
      " 30%|███       | 32/105 [00:04<00:12,  5.78it/s]"
     ]
    },
    {
     "name": "stdout",
     "output_type": "stream",
     "text": [
      "Accuracy of the network on the test data: 68 %\n",
      "Accuracy of activity  0 : 56 %\n",
      "Accuracy of activity  1 : 91 %\n",
      "Accuracy of activity  2 : 59 %\n",
      "Accuracy of activity  3 : 67 %\n"
     ]
    },
    {
     "name": "stderr",
     "output_type": "stream",
     "text": [
      " 40%|████      | 42/105 [00:06<00:12,  5.20it/s]"
     ]
    },
    {
     "name": "stdout",
     "output_type": "stream",
     "text": [
      "Accuracy of the network on the test data: 69 %\n",
      "Accuracy of activity  0 : 67 %\n",
      "Accuracy of activity  1 : 83 %\n",
      "Accuracy of activity  2 : 64 %\n",
      "Accuracy of activity  3 : 60 %\n"
     ]
    },
    {
     "name": "stderr",
     "output_type": "stream",
     "text": [
      " 50%|████▉     | 52/105 [00:07<00:09,  5.50it/s]"
     ]
    },
    {
     "name": "stdout",
     "output_type": "stream",
     "text": [
      "Accuracy of the network on the test data: 69 %\n",
      "Accuracy of activity  0 : 72 %\n",
      "Accuracy of activity  1 : 78 %\n",
      "Accuracy of activity  2 : 65 %\n",
      "Accuracy of activity  3 : 59 %\n"
     ]
    },
    {
     "name": "stderr",
     "output_type": "stream",
     "text": [
      " 59%|█████▉    | 62/105 [00:09<00:07,  5.63it/s]"
     ]
    },
    {
     "name": "stdout",
     "output_type": "stream",
     "text": [
      "Accuracy of the network on the test data: 68 %\n",
      "Accuracy of activity  0 : 57 %\n",
      "Accuracy of activity  1 : 91 %\n",
      "Accuracy of activity  2 : 67 %\n",
      "Accuracy of activity  3 : 59 %\n"
     ]
    },
    {
     "name": "stderr",
     "output_type": "stream",
     "text": [
      " 69%|██████▊   | 72/105 [00:10<00:05,  5.71it/s]"
     ]
    },
    {
     "name": "stdout",
     "output_type": "stream",
     "text": [
      "Accuracy of the network on the test data: 66 %\n",
      "Accuracy of activity  0 : 59 %\n",
      "Accuracy of activity  1 : 87 %\n",
      "Accuracy of activity  2 : 34 %\n",
      "Accuracy of activity  3 : 85 %\n"
     ]
    },
    {
     "name": "stderr",
     "output_type": "stream",
     "text": [
      " 78%|███████▊  | 82/105 [00:12<00:03,  5.76it/s]"
     ]
    },
    {
     "name": "stdout",
     "output_type": "stream",
     "text": [
      "Accuracy of the network on the test data: 69 %\n",
      "Accuracy of activity  0 : 71 %\n",
      "Accuracy of activity  1 : 80 %\n",
      "Accuracy of activity  2 : 69 %\n",
      "Accuracy of activity  3 : 55 %\n"
     ]
    },
    {
     "name": "stderr",
     "output_type": "stream",
     "text": [
      " 88%|████████▊ | 92/105 [00:13<00:02,  5.70it/s]"
     ]
    },
    {
     "name": "stdout",
     "output_type": "stream",
     "text": [
      "Accuracy of the network on the test data: 65 %\n",
      "Accuracy of activity  0 : 67 %\n",
      "Accuracy of activity  1 : 68 %\n",
      "Accuracy of activity  2 : 40 %\n",
      "Accuracy of activity  3 : 85 %\n"
     ]
    },
    {
     "name": "stderr",
     "output_type": "stream",
     "text": [
      " 97%|█████████▋| 102/105 [00:15<00:00,  5.54it/s]"
     ]
    },
    {
     "name": "stdout",
     "output_type": "stream",
     "text": [
      "Accuracy of the network on the test data: 68 %\n",
      "Accuracy of activity  0 : 65 %\n",
      "Accuracy of activity  1 : 90 %\n",
      "Accuracy of activity  2 : 55 %\n",
      "Accuracy of activity  3 : 62 %\n"
     ]
    },
    {
     "name": "stderr",
     "output_type": "stream",
     "text": [
      "100%|██████████| 105/105 [00:15<00:00,  6.72it/s]\n"
     ]
    },
    {
     "name": "stdout",
     "output_type": "stream",
     "text": [
      "Epoch:  4\n"
     ]
    },
    {
     "name": "stderr",
     "output_type": "stream",
     "text": [
      " 11%|█▏        | 12/105 [00:01<00:16,  5.80it/s]"
     ]
    },
    {
     "name": "stdout",
     "output_type": "stream",
     "text": [
      "Accuracy of the network on the test data: 71 %\n",
      "Accuracy of activity  0 : 69 %\n",
      "Accuracy of activity  1 : 82 %\n",
      "Accuracy of activity  2 : 64 %\n",
      "Accuracy of activity  3 : 68 %\n"
     ]
    },
    {
     "name": "stderr",
     "output_type": "stream",
     "text": [
      " 21%|██        | 22/105 [00:03<00:14,  5.56it/s]"
     ]
    },
    {
     "name": "stdout",
     "output_type": "stream",
     "text": [
      "Accuracy of the network on the test data: 70 %\n",
      "Accuracy of activity  0 : 70 %\n",
      "Accuracy of activity  1 : 80 %\n",
      "Accuracy of activity  2 : 50 %\n",
      "Accuracy of activity  3 : 80 %\n"
     ]
    },
    {
     "name": "stderr",
     "output_type": "stream",
     "text": [
      " 30%|███       | 32/105 [00:04<00:12,  5.73it/s]"
     ]
    },
    {
     "name": "stdout",
     "output_type": "stream",
     "text": [
      "Accuracy of the network on the test data: 70 %\n",
      "Accuracy of activity  0 : 60 %\n",
      "Accuracy of activity  1 : 91 %\n",
      "Accuracy of activity  2 : 57 %\n",
      "Accuracy of activity  3 : 72 %\n"
     ]
    },
    {
     "name": "stderr",
     "output_type": "stream",
     "text": [
      " 40%|████      | 42/105 [00:06<00:10,  5.75it/s]"
     ]
    },
    {
     "name": "stdout",
     "output_type": "stream",
     "text": [
      "Accuracy of the network on the test data: 69 %\n",
      "Accuracy of activity  0 : 67 %\n",
      "Accuracy of activity  1 : 83 %\n",
      "Accuracy of activity  2 : 69 %\n",
      "Accuracy of activity  3 : 58 %\n"
     ]
    },
    {
     "name": "stderr",
     "output_type": "stream",
     "text": [
      " 50%|████▉     | 52/105 [00:07<00:09,  5.71it/s]"
     ]
    },
    {
     "name": "stdout",
     "output_type": "stream",
     "text": [
      "Accuracy of the network on the test data: 70 %\n",
      "Accuracy of activity  0 : 74 %\n",
      "Accuracy of activity  1 : 81 %\n",
      "Accuracy of activity  2 : 64 %\n",
      "Accuracy of activity  3 : 61 %\n"
     ]
    },
    {
     "name": "stderr",
     "output_type": "stream",
     "text": [
      " 59%|█████▉    | 62/105 [00:09<00:07,  5.66it/s]"
     ]
    },
    {
     "name": "stdout",
     "output_type": "stream",
     "text": [
      "Accuracy of the network on the test data: 69 %\n",
      "Accuracy of activity  0 : 57 %\n",
      "Accuracy of activity  1 : 94 %\n",
      "Accuracy of activity  2 : 58 %\n",
      "Accuracy of activity  3 : 67 %\n"
     ]
    },
    {
     "name": "stderr",
     "output_type": "stream",
     "text": [
      " 69%|██████▊   | 72/105 [00:10<00:05,  5.67it/s]"
     ]
    },
    {
     "name": "stdout",
     "output_type": "stream",
     "text": [
      "Accuracy of the network on the test data: 67 %\n",
      "Accuracy of activity  0 : 57 %\n",
      "Accuracy of activity  1 : 80 %\n",
      "Accuracy of activity  2 : 48 %\n",
      "Accuracy of activity  3 : 85 %\n"
     ]
    },
    {
     "name": "stderr",
     "output_type": "stream",
     "text": [
      " 78%|███████▊  | 82/105 [00:12<00:04,  5.71it/s]"
     ]
    },
    {
     "name": "stdout",
     "output_type": "stream",
     "text": [
      "Accuracy of the network on the test data: 71 %\n",
      "Accuracy of activity  0 : 73 %\n",
      "Accuracy of activity  1 : 82 %\n",
      "Accuracy of activity  2 : 69 %\n",
      "Accuracy of activity  3 : 58 %\n"
     ]
    },
    {
     "name": "stderr",
     "output_type": "stream",
     "text": [
      " 88%|████████▊ | 92/105 [00:13<00:02,  5.65it/s]"
     ]
    },
    {
     "name": "stdout",
     "output_type": "stream",
     "text": [
      "Accuracy of the network on the test data: 66 %\n",
      "Accuracy of activity  0 : 71 %\n",
      "Accuracy of activity  1 : 70 %\n",
      "Accuracy of activity  2 : 38 %\n",
      "Accuracy of activity  3 : 87 %\n"
     ]
    },
    {
     "name": "stderr",
     "output_type": "stream",
     "text": [
      " 97%|█████████▋| 102/105 [00:15<00:00,  5.68it/s]"
     ]
    },
    {
     "name": "stdout",
     "output_type": "stream",
     "text": [
      "Accuracy of the network on the test data: 69 %\n",
      "Accuracy of activity  0 : 64 %\n",
      "Accuracy of activity  1 : 92 %\n",
      "Accuracy of activity  2 : 61 %\n",
      "Accuracy of activity  3 : 59 %\n"
     ]
    },
    {
     "name": "stderr",
     "output_type": "stream",
     "text": [
      "100%|██████████| 105/105 [00:15<00:00,  6.85it/s]\n"
     ]
    },
    {
     "name": "stdout",
     "output_type": "stream",
     "text": [
      "Epoch:  5\n"
     ]
    },
    {
     "name": "stderr",
     "output_type": "stream",
     "text": [
      " 11%|█▏        | 12/105 [00:01<00:16,  5.62it/s]"
     ]
    },
    {
     "name": "stdout",
     "output_type": "stream",
     "text": [
      "Accuracy of the network on the test data: 71 %\n",
      "Accuracy of activity  0 : 71 %\n",
      "Accuracy of activity  1 : 80 %\n",
      "Accuracy of activity  2 : 63 %\n",
      "Accuracy of activity  3 : 71 %\n"
     ]
    },
    {
     "name": "stderr",
     "output_type": "stream",
     "text": [
      " 21%|██        | 22/105 [00:03<00:14,  5.73it/s]"
     ]
    },
    {
     "name": "stdout",
     "output_type": "stream",
     "text": [
      "Accuracy of the network on the test data: 71 %\n",
      "Accuracy of activity  0 : 69 %\n",
      "Accuracy of activity  1 : 84 %\n",
      "Accuracy of activity  2 : 54 %\n",
      "Accuracy of activity  3 : 79 %\n"
     ]
    },
    {
     "name": "stderr",
     "output_type": "stream",
     "text": [
      " 30%|███       | 32/105 [00:04<00:12,  5.67it/s]"
     ]
    },
    {
     "name": "stdout",
     "output_type": "stream",
     "text": [
      "Accuracy of the network on the test data: 71 %\n",
      "Accuracy of activity  0 : 63 %\n",
      "Accuracy of activity  1 : 91 %\n",
      "Accuracy of activity  2 : 57 %\n",
      "Accuracy of activity  3 : 74 %\n"
     ]
    },
    {
     "name": "stderr",
     "output_type": "stream",
     "text": [
      " 40%|████      | 42/105 [00:06<00:11,  5.28it/s]"
     ]
    },
    {
     "name": "stdout",
     "output_type": "stream",
     "text": [
      "Accuracy of the network on the test data: 70 %\n",
      "Accuracy of activity  0 : 67 %\n",
      "Accuracy of activity  1 : 82 %\n",
      "Accuracy of activity  2 : 71 %\n",
      "Accuracy of activity  3 : 59 %\n"
     ]
    },
    {
     "name": "stderr",
     "output_type": "stream",
     "text": [
      " 50%|████▉     | 52/105 [00:07<00:09,  5.70it/s]"
     ]
    },
    {
     "name": "stdout",
     "output_type": "stream",
     "text": [
      "Accuracy of the network on the test data: 71 %\n",
      "Accuracy of activity  0 : 76 %\n",
      "Accuracy of activity  1 : 86 %\n",
      "Accuracy of activity  2 : 62 %\n",
      "Accuracy of activity  3 : 59 %\n"
     ]
    },
    {
     "name": "stderr",
     "output_type": "stream",
     "text": [
      " 59%|█████▉    | 62/105 [00:09<00:07,  5.71it/s]"
     ]
    },
    {
     "name": "stdout",
     "output_type": "stream",
     "text": [
      "Accuracy of the network on the test data: 70 %\n",
      "Accuracy of activity  0 : 59 %\n",
      "Accuracy of activity  1 : 95 %\n",
      "Accuracy of activity  2 : 57 %\n",
      "Accuracy of activity  3 : 70 %\n"
     ]
    },
    {
     "name": "stderr",
     "output_type": "stream",
     "text": [
      " 69%|██████▊   | 72/105 [00:10<00:05,  5.66it/s]"
     ]
    },
    {
     "name": "stdout",
     "output_type": "stream",
     "text": [
      "Accuracy of the network on the test data: 70 %\n",
      "Accuracy of activity  0 : 63 %\n",
      "Accuracy of activity  1 : 78 %\n",
      "Accuracy of activity  2 : 57 %\n",
      "Accuracy of activity  3 : 81 %\n"
     ]
    },
    {
     "name": "stderr",
     "output_type": "stream",
     "text": [
      " 78%|███████▊  | 82/105 [00:12<00:04,  5.55it/s]"
     ]
    },
    {
     "name": "stdout",
     "output_type": "stream",
     "text": [
      "Accuracy of the network on the test data: 72 %\n",
      "Accuracy of activity  0 : 75 %\n",
      "Accuracy of activity  1 : 84 %\n",
      "Accuracy of activity  2 : 63 %\n",
      "Accuracy of activity  3 : 64 %\n"
     ]
    },
    {
     "name": "stderr",
     "output_type": "stream",
     "text": [
      " 88%|████████▊ | 92/105 [00:13<00:02,  5.71it/s]"
     ]
    },
    {
     "name": "stdout",
     "output_type": "stream",
     "text": [
      "Accuracy of the network on the test data: 68 %\n",
      "Accuracy of activity  0 : 71 %\n",
      "Accuracy of activity  1 : 76 %\n",
      "Accuracy of activity  2 : 42 %\n",
      "Accuracy of activity  3 : 85 %\n"
     ]
    },
    {
     "name": "stderr",
     "output_type": "stream",
     "text": [
      " 97%|█████████▋| 102/105 [00:15<00:00,  5.76it/s]"
     ]
    },
    {
     "name": "stdout",
     "output_type": "stream",
     "text": [
      "Accuracy of the network on the test data: 70 %\n",
      "Accuracy of activity  0 : 64 %\n",
      "Accuracy of activity  1 : 91 %\n",
      "Accuracy of activity  2 : 65 %\n",
      "Accuracy of activity  3 : 60 %\n"
     ]
    },
    {
     "name": "stderr",
     "output_type": "stream",
     "text": [
      "100%|██████████| 105/105 [00:15<00:00,  6.77it/s]\n"
     ]
    },
    {
     "name": "stdout",
     "output_type": "stream",
     "text": [
      "Epoch:  6\n"
     ]
    },
    {
     "name": "stderr",
     "output_type": "stream",
     "text": [
      " 11%|█▏        | 12/105 [00:01<00:16,  5.72it/s]"
     ]
    },
    {
     "name": "stdout",
     "output_type": "stream",
     "text": [
      "Accuracy of the network on the test data: 71 %\n",
      "Accuracy of activity  0 : 71 %\n",
      "Accuracy of activity  1 : 75 %\n",
      "Accuracy of activity  2 : 65 %\n",
      "Accuracy of activity  3 : 72 %\n"
     ]
    },
    {
     "name": "stderr",
     "output_type": "stream",
     "text": [
      " 21%|██        | 22/105 [00:03<00:15,  5.35it/s]"
     ]
    },
    {
     "name": "stdout",
     "output_type": "stream",
     "text": [
      "Accuracy of the network on the test data: 72 %\n",
      "Accuracy of activity  0 : 68 %\n",
      "Accuracy of activity  1 : 88 %\n",
      "Accuracy of activity  2 : 55 %\n",
      "Accuracy of activity  3 : 77 %\n"
     ]
    },
    {
     "name": "stderr",
     "output_type": "stream",
     "text": [
      " 30%|███       | 32/105 [00:04<00:13,  5.26it/s]"
     ]
    },
    {
     "name": "stdout",
     "output_type": "stream",
     "text": [
      "Accuracy of the network on the test data: 72 %\n",
      "Accuracy of activity  0 : 65 %\n",
      "Accuracy of activity  1 : 90 %\n",
      "Accuracy of activity  2 : 55 %\n",
      "Accuracy of activity  3 : 77 %\n"
     ]
    },
    {
     "name": "stderr",
     "output_type": "stream",
     "text": [
      " 40%|████      | 42/105 [00:06<00:11,  5.71it/s]"
     ]
    },
    {
     "name": "stdout",
     "output_type": "stream",
     "text": [
      "Accuracy of the network on the test data: 70 %\n",
      "Accuracy of activity  0 : 68 %\n",
      "Accuracy of activity  1 : 81 %\n",
      "Accuracy of activity  2 : 72 %\n",
      "Accuracy of activity  3 : 59 %\n"
     ]
    },
    {
     "name": "stderr",
     "output_type": "stream",
     "text": [
      " 50%|████▉     | 52/105 [00:07<00:09,  5.73it/s]"
     ]
    },
    {
     "name": "stdout",
     "output_type": "stream",
     "text": [
      "Accuracy of the network on the test data: 70 %\n",
      "Accuracy of activity  0 : 78 %\n",
      "Accuracy of activity  1 : 90 %\n",
      "Accuracy of activity  2 : 56 %\n",
      "Accuracy of activity  3 : 56 %\n"
     ]
    },
    {
     "name": "stderr",
     "output_type": "stream",
     "text": [
      " 59%|█████▉    | 62/105 [00:09<00:08,  5.23it/s]"
     ]
    },
    {
     "name": "stdout",
     "output_type": "stream",
     "text": [
      "Accuracy of the network on the test data: 71 %\n",
      "Accuracy of activity  0 : 58 %\n",
      "Accuracy of activity  1 : 92 %\n",
      "Accuracy of activity  2 : 60 %\n",
      "Accuracy of activity  3 : 76 %\n"
     ]
    },
    {
     "name": "stderr",
     "output_type": "stream",
     "text": [
      " 69%|██████▊   | 72/105 [00:10<00:05,  5.51it/s]"
     ]
    },
    {
     "name": "stdout",
     "output_type": "stream",
     "text": [
      "Accuracy of the network on the test data: 72 %\n",
      "Accuracy of activity  0 : 71 %\n",
      "Accuracy of activity  1 : 78 %\n",
      "Accuracy of activity  2 : 60 %\n",
      "Accuracy of activity  3 : 78 %\n"
     ]
    },
    {
     "name": "stderr",
     "output_type": "stream",
     "text": [
      " 78%|███████▊  | 82/105 [00:12<00:04,  5.58it/s]"
     ]
    },
    {
     "name": "stdout",
     "output_type": "stream",
     "text": [
      "Accuracy of the network on the test data: 72 %\n",
      "Accuracy of activity  0 : 74 %\n",
      "Accuracy of activity  1 : 88 %\n",
      "Accuracy of activity  2 : 56 %\n",
      "Accuracy of activity  3 : 71 %\n"
     ]
    },
    {
     "name": "stderr",
     "output_type": "stream",
     "text": [
      " 88%|████████▊ | 92/105 [00:13<00:02,  5.67it/s]"
     ]
    },
    {
     "name": "stdout",
     "output_type": "stream",
     "text": [
      "Accuracy of the network on the test data: 69 %\n",
      "Accuracy of activity  0 : 70 %\n",
      "Accuracy of activity  1 : 73 %\n",
      "Accuracy of activity  2 : 49 %\n",
      "Accuracy of activity  3 : 84 %\n"
     ]
    },
    {
     "name": "stderr",
     "output_type": "stream",
     "text": [
      " 97%|█████████▋| 102/105 [00:15<00:00,  5.61it/s]"
     ]
    },
    {
     "name": "stdout",
     "output_type": "stream",
     "text": [
      "Accuracy of the network on the test data: 70 %\n",
      "Accuracy of activity  0 : 61 %\n",
      "Accuracy of activity  1 : 92 %\n",
      "Accuracy of activity  2 : 69 %\n",
      "Accuracy of activity  3 : 59 %\n"
     ]
    },
    {
     "name": "stderr",
     "output_type": "stream",
     "text": [
      "100%|██████████| 105/105 [00:15<00:00,  6.70it/s]\n"
     ]
    },
    {
     "name": "stdout",
     "output_type": "stream",
     "text": [
      "Epoch:  7\n"
     ]
    },
    {
     "name": "stderr",
     "output_type": "stream",
     "text": [
      " 11%|█▏        | 12/105 [00:01<00:16,  5.63it/s]"
     ]
    },
    {
     "name": "stdout",
     "output_type": "stream",
     "text": [
      "Accuracy of the network on the test data: 71 %\n",
      "Accuracy of activity  0 : 73 %\n",
      "Accuracy of activity  1 : 73 %\n",
      "Accuracy of activity  2 : 68 %\n",
      "Accuracy of activity  3 : 72 %\n"
     ]
    },
    {
     "name": "stderr",
     "output_type": "stream",
     "text": [
      " 21%|██        | 22/105 [00:03<00:14,  5.63it/s]"
     ]
    },
    {
     "name": "stdout",
     "output_type": "stream",
     "text": [
      "Accuracy of the network on the test data: 73 %\n",
      "Accuracy of activity  0 : 68 %\n",
      "Accuracy of activity  1 : 90 %\n",
      "Accuracy of activity  2 : 56 %\n",
      "Accuracy of activity  3 : 76 %\n"
     ]
    },
    {
     "name": "stderr",
     "output_type": "stream",
     "text": [
      " 30%|███       | 32/105 [00:04<00:13,  5.58it/s]"
     ]
    },
    {
     "name": "stdout",
     "output_type": "stream",
     "text": [
      "Accuracy of the network on the test data: 73 %\n",
      "Accuracy of activity  0 : 67 %\n",
      "Accuracy of activity  1 : 89 %\n",
      "Accuracy of activity  2 : 55 %\n",
      "Accuracy of activity  3 : 79 %\n"
     ]
    },
    {
     "name": "stderr",
     "output_type": "stream",
     "text": [
      " 40%|████      | 42/105 [00:06<00:11,  5.56it/s]"
     ]
    },
    {
     "name": "stdout",
     "output_type": "stream",
     "text": [
      "Accuracy of the network on the test data: 71 %\n",
      "Accuracy of activity  0 : 70 %\n",
      "Accuracy of activity  1 : 81 %\n",
      "Accuracy of activity  2 : 73 %\n",
      "Accuracy of activity  3 : 59 %\n"
     ]
    },
    {
     "name": "stderr",
     "output_type": "stream",
     "text": [
      " 50%|████▉     | 52/105 [00:07<00:09,  5.67it/s]"
     ]
    },
    {
     "name": "stdout",
     "output_type": "stream",
     "text": [
      "Accuracy of the network on the test data: 70 %\n",
      "Accuracy of activity  0 : 77 %\n",
      "Accuracy of activity  1 : 91 %\n",
      "Accuracy of activity  2 : 58 %\n",
      "Accuracy of activity  3 : 53 %\n"
     ]
    },
    {
     "name": "stderr",
     "output_type": "stream",
     "text": [
      " 59%|█████▉    | 62/105 [00:09<00:07,  5.56it/s]"
     ]
    },
    {
     "name": "stdout",
     "output_type": "stream",
     "text": [
      "Accuracy of the network on the test data: 72 %\n",
      "Accuracy of activity  0 : 62 %\n",
      "Accuracy of activity  1 : 89 %\n",
      "Accuracy of activity  2 : 57 %\n",
      "Accuracy of activity  3 : 80 %\n"
     ]
    },
    {
     "name": "stderr",
     "output_type": "stream",
     "text": [
      " 69%|██████▊   | 72/105 [00:10<00:05,  5.74it/s]"
     ]
    },
    {
     "name": "stdout",
     "output_type": "stream",
     "text": [
      "Accuracy of the network on the test data: 73 %\n",
      "Accuracy of activity  0 : 73 %\n",
      "Accuracy of activity  1 : 81 %\n",
      "Accuracy of activity  2 : 62 %\n",
      "Accuracy of activity  3 : 76 %\n"
     ]
    },
    {
     "name": "stderr",
     "output_type": "stream",
     "text": [
      " 78%|███████▊  | 82/105 [00:12<00:03,  5.84it/s]"
     ]
    },
    {
     "name": "stdout",
     "output_type": "stream",
     "text": [
      "Accuracy of the network on the test data: 72 %\n",
      "Accuracy of activity  0 : 75 %\n",
      "Accuracy of activity  1 : 88 %\n",
      "Accuracy of activity  2 : 55 %\n",
      "Accuracy of activity  3 : 72 %\n"
     ]
    },
    {
     "name": "stderr",
     "output_type": "stream",
     "text": [
      " 88%|████████▊ | 92/105 [00:13<00:02,  5.88it/s]"
     ]
    },
    {
     "name": "stdout",
     "output_type": "stream",
     "text": [
      "Accuracy of the network on the test data: 70 %\n",
      "Accuracy of activity  0 : 72 %\n",
      "Accuracy of activity  1 : 74 %\n",
      "Accuracy of activity  2 : 50 %\n",
      "Accuracy of activity  3 : 83 %\n"
     ]
    },
    {
     "name": "stderr",
     "output_type": "stream",
     "text": [
      " 97%|█████████▋| 102/105 [00:15<00:00,  5.77it/s]"
     ]
    },
    {
     "name": "stdout",
     "output_type": "stream",
     "text": [
      "Accuracy of the network on the test data: 70 %\n",
      "Accuracy of activity  0 : 59 %\n",
      "Accuracy of activity  1 : 93 %\n",
      "Accuracy of activity  2 : 68 %\n",
      "Accuracy of activity  3 : 60 %\n"
     ]
    },
    {
     "name": "stderr",
     "output_type": "stream",
     "text": [
      "100%|██████████| 105/105 [00:15<00:00,  6.81it/s]\n"
     ]
    },
    {
     "name": "stdout",
     "output_type": "stream",
     "text": [
      "Epoch:  8\n"
     ]
    },
    {
     "name": "stderr",
     "output_type": "stream",
     "text": [
      " 11%|█▏        | 12/105 [00:01<00:15,  5.86it/s]"
     ]
    },
    {
     "name": "stdout",
     "output_type": "stream",
     "text": [
      "Accuracy of the network on the test data: 72 %\n",
      "Accuracy of activity  0 : 74 %\n",
      "Accuracy of activity  1 : 74 %\n",
      "Accuracy of activity  2 : 69 %\n",
      "Accuracy of activity  3 : 72 %\n"
     ]
    },
    {
     "name": "stderr",
     "output_type": "stream",
     "text": [
      " 21%|██        | 22/105 [00:03<00:14,  5.74it/s]"
     ]
    },
    {
     "name": "stdout",
     "output_type": "stream",
     "text": [
      "Accuracy of the network on the test data: 73 %\n",
      "Accuracy of activity  0 : 67 %\n",
      "Accuracy of activity  1 : 90 %\n",
      "Accuracy of activity  2 : 58 %\n",
      "Accuracy of activity  3 : 76 %\n"
     ]
    },
    {
     "name": "stderr",
     "output_type": "stream",
     "text": [
      " 30%|███       | 32/105 [00:04<00:12,  5.81it/s]"
     ]
    },
    {
     "name": "stdout",
     "output_type": "stream",
     "text": [
      "Accuracy of the network on the test data: 73 %\n",
      "Accuracy of activity  0 : 69 %\n",
      "Accuracy of activity  1 : 89 %\n",
      "Accuracy of activity  2 : 56 %\n",
      "Accuracy of activity  3 : 78 %\n"
     ]
    },
    {
     "name": "stderr",
     "output_type": "stream",
     "text": [
      " 40%|████      | 42/105 [00:06<00:11,  5.64it/s]"
     ]
    },
    {
     "name": "stdout",
     "output_type": "stream",
     "text": [
      "Accuracy of the network on the test data: 72 %\n",
      "Accuracy of activity  0 : 72 %\n",
      "Accuracy of activity  1 : 84 %\n",
      "Accuracy of activity  2 : 72 %\n",
      "Accuracy of activity  3 : 60 %\n"
     ]
    },
    {
     "name": "stderr",
     "output_type": "stream",
     "text": [
      " 50%|████▉     | 52/105 [00:07<00:09,  5.67it/s]"
     ]
    },
    {
     "name": "stdout",
     "output_type": "stream",
     "text": [
      "Accuracy of the network on the test data: 71 %\n",
      "Accuracy of activity  0 : 78 %\n",
      "Accuracy of activity  1 : 92 %\n",
      "Accuracy of activity  2 : 58 %\n",
      "Accuracy of activity  3 : 56 %\n"
     ]
    },
    {
     "name": "stderr",
     "output_type": "stream",
     "text": [
      " 59%|█████▉    | 62/105 [00:09<00:07,  5.87it/s]"
     ]
    },
    {
     "name": "stdout",
     "output_type": "stream",
     "text": [
      "Accuracy of the network on the test data: 73 %\n",
      "Accuracy of activity  0 : 66 %\n",
      "Accuracy of activity  1 : 87 %\n",
      "Accuracy of activity  2 : 58 %\n",
      "Accuracy of activity  3 : 82 %\n"
     ]
    },
    {
     "name": "stderr",
     "output_type": "stream",
     "text": [
      " 69%|██████▊   | 72/105 [00:10<00:05,  5.63it/s]"
     ]
    },
    {
     "name": "stdout",
     "output_type": "stream",
     "text": [
      "Accuracy of the network on the test data: 74 %\n",
      "Accuracy of activity  0 : 75 %\n",
      "Accuracy of activity  1 : 83 %\n",
      "Accuracy of activity  2 : 63 %\n",
      "Accuracy of activity  3 : 75 %\n"
     ]
    },
    {
     "name": "stderr",
     "output_type": "stream",
     "text": [
      " 78%|███████▊  | 82/105 [00:11<00:03,  5.83it/s]"
     ]
    },
    {
     "name": "stdout",
     "output_type": "stream",
     "text": [
      "Accuracy of the network on the test data: 72 %\n",
      "Accuracy of activity  0 : 75 %\n",
      "Accuracy of activity  1 : 88 %\n",
      "Accuracy of activity  2 : 54 %\n",
      "Accuracy of activity  3 : 73 %\n"
     ]
    },
    {
     "name": "stderr",
     "output_type": "stream",
     "text": [
      " 88%|████████▊ | 92/105 [00:13<00:02,  5.75it/s]"
     ]
    },
    {
     "name": "stdout",
     "output_type": "stream",
     "text": [
      "Accuracy of the network on the test data: 70 %\n",
      "Accuracy of activity  0 : 74 %\n",
      "Accuracy of activity  1 : 73 %\n",
      "Accuracy of activity  2 : 51 %\n",
      "Accuracy of activity  3 : 82 %\n"
     ]
    },
    {
     "name": "stderr",
     "output_type": "stream",
     "text": [
      " 97%|█████████▋| 102/105 [00:14<00:00,  5.76it/s]"
     ]
    },
    {
     "name": "stdout",
     "output_type": "stream",
     "text": [
      "Accuracy of the network on the test data: 70 %\n",
      "Accuracy of activity  0 : 57 %\n",
      "Accuracy of activity  1 : 93 %\n",
      "Accuracy of activity  2 : 67 %\n",
      "Accuracy of activity  3 : 62 %\n"
     ]
    },
    {
     "name": "stderr",
     "output_type": "stream",
     "text": [
      "100%|██████████| 105/105 [00:15<00:00,  6.92it/s]\n"
     ]
    },
    {
     "name": "stdout",
     "output_type": "stream",
     "text": [
      "Epoch:  9\n"
     ]
    },
    {
     "name": "stderr",
     "output_type": "stream",
     "text": [
      " 11%|█▏        | 12/105 [00:01<00:15,  5.85it/s]"
     ]
    },
    {
     "name": "stdout",
     "output_type": "stream",
     "text": [
      "Accuracy of the network on the test data: 72 %\n",
      "Accuracy of activity  0 : 75 %\n",
      "Accuracy of activity  1 : 74 %\n",
      "Accuracy of activity  2 : 67 %\n",
      "Accuracy of activity  3 : 73 %\n"
     ]
    },
    {
     "name": "stderr",
     "output_type": "stream",
     "text": [
      " 21%|██        | 22/105 [00:03<00:14,  5.70it/s]"
     ]
    },
    {
     "name": "stdout",
     "output_type": "stream",
     "text": [
      "Accuracy of the network on the test data: 73 %\n",
      "Accuracy of activity  0 : 66 %\n",
      "Accuracy of activity  1 : 91 %\n",
      "Accuracy of activity  2 : 61 %\n",
      "Accuracy of activity  3 : 75 %\n"
     ]
    },
    {
     "name": "stderr",
     "output_type": "stream",
     "text": [
      " 30%|███       | 32/105 [00:04<00:12,  5.77it/s]"
     ]
    },
    {
     "name": "stdout",
     "output_type": "stream",
     "text": [
      "Accuracy of the network on the test data: 73 %\n",
      "Accuracy of activity  0 : 71 %\n",
      "Accuracy of activity  1 : 87 %\n",
      "Accuracy of activity  2 : 55 %\n",
      "Accuracy of activity  3 : 79 %\n"
     ]
    },
    {
     "name": "stderr",
     "output_type": "stream",
     "text": [
      " 40%|████      | 42/105 [00:06<00:11,  5.72it/s]"
     ]
    },
    {
     "name": "stdout",
     "output_type": "stream",
     "text": [
      "Accuracy of the network on the test data: 72 %\n",
      "Accuracy of activity  0 : 71 %\n",
      "Accuracy of activity  1 : 86 %\n",
      "Accuracy of activity  2 : 72 %\n",
      "Accuracy of activity  3 : 58 %\n"
     ]
    },
    {
     "name": "stderr",
     "output_type": "stream",
     "text": [
      " 50%|████▉     | 52/105 [00:07<00:09,  5.59it/s]"
     ]
    },
    {
     "name": "stdout",
     "output_type": "stream",
     "text": [
      "Accuracy of the network on the test data: 72 %\n",
      "Accuracy of activity  0 : 80 %\n",
      "Accuracy of activity  1 : 91 %\n",
      "Accuracy of activity  2 : 57 %\n",
      "Accuracy of activity  3 : 60 %\n"
     ]
    },
    {
     "name": "stderr",
     "output_type": "stream",
     "text": [
      " 59%|█████▉    | 62/105 [00:09<00:07,  5.71it/s]"
     ]
    },
    {
     "name": "stdout",
     "output_type": "stream",
     "text": [
      "Accuracy of the network on the test data: 72 %\n",
      "Accuracy of activity  0 : 65 %\n",
      "Accuracy of activity  1 : 86 %\n",
      "Accuracy of activity  2 : 56 %\n",
      "Accuracy of activity  3 : 83 %\n"
     ]
    },
    {
     "name": "stderr",
     "output_type": "stream",
     "text": [
      " 69%|██████▊   | 72/105 [00:10<00:05,  5.63it/s]"
     ]
    },
    {
     "name": "stdout",
     "output_type": "stream",
     "text": [
      "Accuracy of the network on the test data: 74 %\n",
      "Accuracy of activity  0 : 76 %\n",
      "Accuracy of activity  1 : 83 %\n",
      "Accuracy of activity  2 : 61 %\n",
      "Accuracy of activity  3 : 74 %\n"
     ]
    },
    {
     "name": "stderr",
     "output_type": "stream",
     "text": [
      " 78%|███████▊  | 82/105 [00:12<00:03,  5.81it/s]"
     ]
    },
    {
     "name": "stdout",
     "output_type": "stream",
     "text": [
      "Accuracy of the network on the test data: 73 %\n",
      "Accuracy of activity  0 : 78 %\n",
      "Accuracy of activity  1 : 86 %\n",
      "Accuracy of activity  2 : 54 %\n",
      "Accuracy of activity  3 : 73 %\n"
     ]
    },
    {
     "name": "stderr",
     "output_type": "stream",
     "text": [
      " 88%|████████▊ | 92/105 [00:13<00:02,  5.79it/s]"
     ]
    },
    {
     "name": "stdout",
     "output_type": "stream",
     "text": [
      "Accuracy of the network on the test data: 71 %\n",
      "Accuracy of activity  0 : 77 %\n",
      "Accuracy of activity  1 : 75 %\n",
      "Accuracy of activity  2 : 51 %\n",
      "Accuracy of activity  3 : 81 %\n"
     ]
    },
    {
     "name": "stderr",
     "output_type": "stream",
     "text": [
      " 97%|█████████▋| 102/105 [00:14<00:00,  5.68it/s]"
     ]
    },
    {
     "name": "stdout",
     "output_type": "stream",
     "text": [
      "Accuracy of the network on the test data: 70 %\n",
      "Accuracy of activity  0 : 56 %\n",
      "Accuracy of activity  1 : 93 %\n",
      "Accuracy of activity  2 : 67 %\n",
      "Accuracy of activity  3 : 63 %\n"
     ]
    },
    {
     "name": "stderr",
     "output_type": "stream",
     "text": [
      "100%|██████████| 105/105 [00:15<00:00,  6.89it/s]\n",
      "/home/nesl/Documents/PYLON-CE-examples/CE-image-examples/../utils.py:46: UserWarning: Matplotlib is currently using module://matplotlib_inline.backend_inline, which is a non-GUI backend, so cannot show the figure.\n",
      "  self.fig.show()\n"
     ]
    },
    {
     "name": "stdout",
     "output_type": "stream",
     "text": [
      "Accuracy of the network on the test data: 69 %\n",
      "Accuracy of activity  0 : 63 %\n",
      "Accuracy of activity  1 : 95 %\n",
      "Accuracy of activity  2 : 65 %\n",
      "Accuracy of activity  3 : 53 %\n",
      "Accuracy of the network on the test data: 69 %\n",
      "Accuracy of activity  0 : 63 %\n",
      "Accuracy of activity  1 : 95 %\n",
      "Accuracy of activity  2 : 65 %\n",
      "Accuracy of activity  3 : 53 %\n"
     ]
    },
    {
     "data": {
      "image/png": "[encoded data removed]",
      "text/plain": [
       "<Figure size 640x480 with 1 Axes>"
      ]
     },
     "metadata": {},
     "output_type": "display_data"
    },
    {
     "data": {
      "image/png": "[encoded data removed]",
      "text/plain": [
       "<Figure size 900x700 with 2 Axes>"
      ]
     },
     "metadata": {},
     "output_type": "display_data"
    }
   ],
   "source": [
    "model = Net(n_cifar_class)\n",
    "optimizer = torch.optim.Adam(model.parameters(), lr=1e-3)\n",
    "pylon_train(model, 10, optimizer)\n",
    "y_true, y_pred, _ = prim_test(model, cifar_test_loader)\n",
    "plot_confusion_matrix(y_true, y_pred, prim_class_names)"
   ]
  },
  {
   "cell_type": "code",
   "execution_count": null,
   "metadata": {},
   "outputs": [],
   "source": []
  }
 ],
 "metadata": {
  "kernelspec": {
   "display_name": "pytorch-gpu",
   "language": "python",
   "name": "python3"
  },
  "language_info": {
   "codemirror_mode": {
    "name": "ipython",
    "version": 3
   },
   "file_extension": ".py",
   "mimetype": "text/x-python",
   "name": "python",
   "nbconvert_exporter": "python",
   "pygments_lexer": "ipython3",
   "version": "3.9.18"
  }
 },
 "nbformat": 4,
 "nbformat_minor": 2
}
